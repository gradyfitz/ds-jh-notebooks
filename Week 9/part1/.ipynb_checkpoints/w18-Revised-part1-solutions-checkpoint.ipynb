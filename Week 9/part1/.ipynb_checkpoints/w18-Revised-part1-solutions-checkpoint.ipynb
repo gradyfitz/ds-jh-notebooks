{
 "cells": [
  {
   "cell_type": "markdown",
   "metadata": {},
   "source": [
    "# Workshop 18 Revised Part 1\n",
    "\n",
    "## Learning objectives\n",
    "Become proficient in manipulating tabular data and then visualising it using `matplotlib` and `seaborn`:\n",
    "- Learn to use `matplotlib` and `seaborn` to plot different types of visualizations\n",
    "- Learn to format and improve the aesthetics of a plot\n",
    "- Find a way to overcome 'overplotting' with sampling, sizing, coloring and adjusting opacity\n",
    "- Understand the different types of plots and their usage\n",
    "- Know how to analyse the information revealed between different plots\n",
    "- Learn to use the `pandas` methods `.apply()` with `lambda` functions.\n",
    "- Revise on `groupby` and aggregate to summarize a larger dataset\n"
   ]
  },
  {
   "cell_type": "markdown",
   "metadata": {},
   "source": [
    "# <u>Concept: Matplotlib</u>\n",
    "\n",
    "`matplotlib` is a Python plotting library that enables you to produce figures and charts. It also allows you to display the images in the Jupyter Notebook, or save them onto your device for later.\n",
    "\n",
    "At the bare minimum, the code skeleton for plotting a single plot with `matplotlib` would look like this:\n",
    "\n",
    "```python\n",
    "# Import\n",
    "import matplotlib.pyplot as plt\n",
    "\n",
    "# Plot\n",
    "plt.your_own_type_of_plot()\n",
    "\n",
    "# Set up aesthetics\n",
    "plt.set_up_aesthetics()\n",
    "\n",
    "# Show plot on notebook and/or save to local file\n",
    "plt.show()\n",
    "plt.savefig('savefile.jpg')\n",
    "```"
   ]
  },
  {
   "cell_type": "markdown",
   "metadata": {},
   "source": [
    "To install `matplotlib` and `seaborn` if it's not installed:\n",
    "```\n",
    "pip install matplotlib seaborn\n",
    "```\n",
    "\n",
    "You may need to use `pip3` depending on your device."
   ]
  },
  {
   "cell_type": "code",
   "execution_count": 1,
   "metadata": {
    "ExecuteTime": {
     "end_time": "2021-12-06T01:25:40.358309Z",
     "start_time": "2021-12-06T01:25:39.745171Z"
    }
   },
   "outputs": [],
   "source": [
    "import pandas as pd\n",
    "import matplotlib.pyplot as plt\n",
    "import seaborn as sns"
   ]
  },
  {
   "cell_type": "code",
   "execution_count": 2,
   "metadata": {
    "ExecuteTime": {
     "end_time": "2021-12-06T01:25:40.406292Z",
     "start_time": "2021-12-06T01:25:40.359669Z"
    }
   },
   "outputs": [
    {
     "data": {
      "text/html": [
       "<div>\n",
       "<style scoped>\n",
       "    .dataframe tbody tr th:only-of-type {\n",
       "        vertical-align: middle;\n",
       "    }\n",
       "\n",
       "    .dataframe tbody tr th {\n",
       "        vertical-align: top;\n",
       "    }\n",
       "\n",
       "    .dataframe thead th {\n",
       "        text-align: right;\n",
       "    }\n",
       "</style>\n",
       "<table border=\"1\" class=\"dataframe\">\n",
       "  <thead>\n",
       "    <tr style=\"text-align: right;\">\n",
       "      <th></th>\n",
       "      <th>session_id</th>\n",
       "      <th>cinema_name</th>\n",
       "      <th>movie_name</th>\n",
       "      <th>session_date</th>\n",
       "      <th>start_time</th>\n",
       "      <th>tickets_sold</th>\n",
       "      <th>max_capacity</th>\n",
       "      <th>occupancy_rate</th>\n",
       "    </tr>\n",
       "  </thead>\n",
       "  <tbody>\n",
       "    <tr>\n",
       "      <th>0</th>\n",
       "      <td>1</td>\n",
       "      <td>Village - Karingal</td>\n",
       "      <td>Maze Runner: The Death Cure</td>\n",
       "      <td>2018-01-26</td>\n",
       "      <td>11:30</td>\n",
       "      <td>151</td>\n",
       "      <td>300</td>\n",
       "      <td>0.503333</td>\n",
       "    </tr>\n",
       "    <tr>\n",
       "      <th>1</th>\n",
       "      <td>2</td>\n",
       "      <td>Village - Karingal</td>\n",
       "      <td>Maze Runner: The Death Cure</td>\n",
       "      <td>2018-01-26</td>\n",
       "      <td>14:30</td>\n",
       "      <td>122</td>\n",
       "      <td>275</td>\n",
       "      <td>0.443636</td>\n",
       "    </tr>\n",
       "    <tr>\n",
       "      <th>2</th>\n",
       "      <td>3</td>\n",
       "      <td>Village - Karingal</td>\n",
       "      <td>Maze Runner: The Death Cure</td>\n",
       "      <td>2018-01-26</td>\n",
       "      <td>16:15</td>\n",
       "      <td>35</td>\n",
       "      <td>175</td>\n",
       "      <td>0.200000</td>\n",
       "    </tr>\n",
       "    <tr>\n",
       "      <th>3</th>\n",
       "      <td>4</td>\n",
       "      <td>Village - Karingal</td>\n",
       "      <td>Maze Runner: The Death Cure</td>\n",
       "      <td>2018-01-26</td>\n",
       "      <td>18:15</td>\n",
       "      <td>15</td>\n",
       "      <td>400</td>\n",
       "      <td>0.037500</td>\n",
       "    </tr>\n",
       "    <tr>\n",
       "      <th>4</th>\n",
       "      <td>5</td>\n",
       "      <td>Village - Karingal</td>\n",
       "      <td>Maze Runner: The Death Cure</td>\n",
       "      <td>2018-01-27</td>\n",
       "      <td>10:30</td>\n",
       "      <td>25</td>\n",
       "      <td>400</td>\n",
       "      <td>0.062500</td>\n",
       "    </tr>\n",
       "  </tbody>\n",
       "</table>\n",
       "</div>"
      ],
      "text/plain": [
       "   session_id         cinema_name                   movie_name session_date  \\\n",
       "0           1  Village - Karingal  Maze Runner: The Death Cure   2018-01-26   \n",
       "1           2  Village - Karingal  Maze Runner: The Death Cure   2018-01-26   \n",
       "2           3  Village - Karingal  Maze Runner: The Death Cure   2018-01-26   \n",
       "3           4  Village - Karingal  Maze Runner: The Death Cure   2018-01-26   \n",
       "4           5  Village - Karingal  Maze Runner: The Death Cure   2018-01-27   \n",
       "\n",
       "  start_time  tickets_sold  max_capacity  occupancy_rate  \n",
       "0      11:30           151           300        0.503333  \n",
       "1      14:30           122           275        0.443636  \n",
       "2      16:15            35           175        0.200000  \n",
       "3      18:15            15           400        0.037500  \n",
       "4      10:30            25           400        0.062500  "
      ]
     },
     "execution_count": 2,
     "metadata": {},
     "output_type": "execute_result"
    }
   ],
   "source": [
    "# Basic data loading tasks\n",
    "session_df = pd.read_csv('session.csv')\n",
    "session_df.head() # Get an idea of what the data looks like"
   ]
  },
  {
   "cell_type": "markdown",
   "metadata": {},
   "source": [
    "To view the data types, we can use the `dtypes` attribute"
   ]
  },
  {
   "cell_type": "code",
   "execution_count": 3,
   "metadata": {
    "ExecuteTime": {
     "end_time": "2021-12-06T01:25:40.411295Z",
     "start_time": "2021-12-06T01:25:40.407343Z"
    }
   },
   "outputs": [
    {
     "data": {
      "text/plain": [
       "session_id          int64\n",
       "cinema_name        object\n",
       "movie_name         object\n",
       "session_date       object\n",
       "start_time         object\n",
       "tickets_sold        int64\n",
       "max_capacity        int64\n",
       "occupancy_rate    float64\n",
       "dtype: object"
      ]
     },
     "execution_count": 3,
     "metadata": {},
     "output_type": "execute_result"
    }
   ],
   "source": [
    "session_df.dtypes"
   ]
  },
  {
   "cell_type": "markdown",
   "metadata": {},
   "source": [
    "Objects in `pandas` can be anything from strings to lists, or any data structure that isn't numerical/datetime."
   ]
  },
  {
   "cell_type": "markdown",
   "metadata": {},
   "source": [
    "## <u>Concept: Scatter plot</u>\n",
    "Scatter plots are for continuous data types and aim to show the relationships between them by plotting their respective `(x, y)` coordinates.\n",
    "\n",
    "**Discussion Question: Is there a relationship between the maximum capacity and the number of tickets sold?**"
   ]
  },
  {
   "cell_type": "code",
   "execution_count": 4,
   "metadata": {
    "ExecuteTime": {
     "end_time": "2021-12-06T01:25:40.540309Z",
     "start_time": "2021-12-06T01:25:40.413066Z"
    }
   },
   "outputs": [
    {
     "data": {
      "image/png": "[encoded data removed]",
      "text/plain": [
       "<Figure size 432x288 with 1 Axes>"
      ]
     },
     "metadata": {
      "needs_background": "light"
     },
     "output_type": "display_data"
    }
   ],
   "source": [
    "# Basic scatterplot\n",
    "plt.scatter(x=session_df['tickets_sold'], \n",
    "            y=session_df['occupancy_rate'])\n",
    "\n",
    "plt.show()\n",
    "# Question: What are the issues with this basic scatterplot?"
   ]
  },
  {
   "cell_type": "markdown",
   "metadata": {},
   "source": [
    "1. When plotting a figure, make sure to add a title.\n",
    "2. Ensure your font size is readable and your figure size is appropriate. This is even more important if you are writing a report and using the visualisation. Make sure it is readable!"
   ]
  },
  {
   "cell_type": "code",
   "execution_count": 5,
   "metadata": {
    "ExecuteTime": {
     "end_time": "2021-12-06T01:25:40.705838Z",
     "start_time": "2021-12-06T01:25:40.541235Z"
    }
   },
   "outputs": [
    {
     "data": {
      "image/png": "[encoded data removed]",
      "text/plain": [
       "<Figure size 1080x504 with 1 Axes>"
      ]
     },
     "metadata": {
      "needs_background": "light"
     },
     "output_type": "display_data"
    }
   ],
   "source": [
    "# Enlarge the figure shape and font size\n",
    "plt.rcParams[\"figure.figsize\"] = (15, 7) # Larger figure size\n",
    "plt.rc('font', size=14) # set the fontsize\n",
    "\n",
    "# take a random sample of 6000 instances. This is because there may be too many data points for an example.\n",
    "sample = session_df.sample(6000)\n",
    "\n",
    "# Basic scatter plot\n",
    "plt.scatter(x=sample['tickets_sold'], \n",
    "            y=sample['occupancy_rate'], \n",
    "            s=100, # s determinines the size of the markers\n",
    "            alpha=0.05, # alpha determines the opacity\n",
    "            c='green', # this determines the colour\n",
    "            label='Tickets Sold vs Occupancy Rate' # the label of the plot if a legend is used\n",
    ")\n",
    "\n",
    "# other formatting options\n",
    "plt.grid()\n",
    "plt.xlabel('Tickets Sold')\n",
    "plt.ylabel('Occupancy Rate')\n",
    "plt.title(\"Number of Tickets Sold vs Occupancy Rate\")\n",
    "plt.legend()\n",
    "\n",
    "# show the figure\n",
    "plt.show()"
   ]
  },
  {
   "cell_type": "markdown",
   "metadata": {},
   "source": [
    "**Question: What trends or relationships can we see from this scatterplot?**"
   ]
  },
  {
   "cell_type": "markdown",
   "metadata": {},
   "source": [
    "We can see that generally, the more tickets sold results in a higher occupancy rate."
   ]
  },
  {
   "cell_type": "markdown",
   "metadata": {},
   "source": [
    "## <u>Concept: Boxplots and Histograms</u>\n",
    "Boxplots:\n",
    "- A boxplot is a plot that displays a statistical summary of the quartiles of a dataset.\n",
    "- Elements in a boxplot: Quartiles, IQR, whiskers\n",
    "- IQR is the distance between the upper (75%) and lower (25%) quartiles.\n",
    "- Whiskers are plotted at a distance of 1.5 times the IQR above/below the quartiles or to the observed point from the dataset that falls within this distance. Any other data points are considered outliers\n",
    "- Boxplot documentation: https://matplotlib.org/stable/api/_as_gen/matplotlib.pyplot.boxplot.html\n",
    "\n",
    "Histograms:\n",
    "- One of the most useful plotting devices (alongside scatterplots) which plot the **distribution** of your dataset\n",
    "- Typically used for datasets with large $n$ (number of rows/instances, such as age of population).\n",
    "- Approximating the distribution requires some statistical background and is not required in this subject (though you should probably know what the Normal distribution looks like).\n",
    "- Matplotlib Histogram documentation: https://matplotlib.org/stable/gallery/statistics/hist.html\n",
    "- Seaborn Histogram documentation: https://seaborn.pydata.org/generated/seaborn.displot.html#seaborn.displot\n",
    "\n",
    "Let's plot the distribution of the occupancy rate across all sessions."
   ]
  },
  {
   "cell_type": "code",
   "execution_count": 6,
   "metadata": {
    "ExecuteTime": {
     "end_time": "2021-12-06T01:25:40.851309Z",
     "start_time": "2021-12-06T01:25:40.707008Z"
    }
   },
   "outputs": [
    {
     "data": {
      "image/png": "[encoded data removed]",
      "text/plain": [
       "<Figure size 1080x504 with 2 Axes>"
      ]
     },
     "metadata": {
      "needs_background": "light"
     },
     "output_type": "display_data"
    }
   ],
   "source": [
    "# Plotting 2 side-by-side plots using axis\n",
    "\n",
    "# This creates a sketch area of 1 row, 2 plots\n",
    "# ax1 and ax2 refer to the 2 \"axis\"\n",
    "fig, (ax1, ax2) = plt.subplots(1, 2) \n",
    "\n",
    "# Title for both plots\n",
    "fig.suptitle('Distribution of occupancy rate') \n",
    "\n",
    "# Draw the first plot: Box plot\n",
    "ax1.boxplot(session_df['occupancy_rate']) \n",
    "\n",
    "# Draw the second plot: Histogram\n",
    "ax2.hist(session_df['occupancy_rate']) \n",
    "\n",
    "# Show\n",
    "plt.show()"
   ]
  },
  {
   "cell_type": "markdown",
   "metadata": {},
   "source": [
    "**Discussion Questions:**\n",
    "1. Identify 1 thing that the boxplot reveals but not in the histogram.\n",
    "2. Identify 1 thing that the histogram reveals but not in the boxplot."
   ]
  },
  {
   "cell_type": "markdown",
   "metadata": {},
   "source": [
    "Answers:\n",
    "1. Things like the median, quantiles, and outlier fences.\n",
    "2. Things such as the frequency for each value."
   ]
  },
  {
   "cell_type": "markdown",
   "metadata": {},
   "source": [
    "Alternatively using seaborn (a much nicer package for statistical visualisations). It's good to note here that `seaborn` and `matplotlib` work hand-in-hand (such as formatting)."
   ]
  },
  {
   "cell_type": "code",
   "execution_count": 7,
   "metadata": {
    "ExecuteTime": {
     "end_time": "2021-12-06T01:25:41.055808Z",
     "start_time": "2021-12-06T01:25:40.852379Z"
    }
   },
   "outputs": [
    {
     "data": {
      "image/png": "[encoded data removed]",
      "text/plain": [
       "<Figure size 360x360 with 1 Axes>"
      ]
     },
     "metadata": {
      "needs_background": "light"
     },
     "output_type": "display_data"
    }
   ],
   "source": [
    "# plot a seaborn distribution plot\n",
    "sns.displot(session_df['occupancy_rate'])\n",
    "\n",
    "# set figure size using seaborn\n",
    "sns.set(font_scale=1.2)\n",
    "\n",
    "# but use matplotlib to set the title\n",
    "plt.title('Histogram Plot of Occupancy Rate')\n",
    "\n",
    "# show the plot\n",
    "plt.show()"
   ]
  },
  {
   "cell_type": "markdown",
   "metadata": {},
   "source": [
    "## <u>Concept: Bar Charts</u>\n",
    "- Bar Charts are another common type of visualization.\n",
    "- Depending on the dataset, it may be more \"interesting\" to *sort* the data (x-axis). Why?\n",
    "- Typically provide comparisons or contrasts between different features.\n",
    "- Matplotlib Bar Chart Documentation: https://matplotlib.org/stable/api/_as_gen/matplotlib.pyplot.bar.html?highlight=bar#matplotlib.pyplot.bar\n",
    "\n",
    "\n",
    "Let's take a look at the average ticket sales for each starting time."
   ]
  },
  {
   "cell_type": "code",
   "execution_count": 8,
   "metadata": {
    "ExecuteTime": {
     "end_time": "2021-12-06T01:25:41.066318Z",
     "start_time": "2021-12-06T01:25:41.056961Z"
    }
   },
   "outputs": [
    {
     "data": {
      "text/html": [
       "<div>\n",
       "<style scoped>\n",
       "    .dataframe tbody tr th:only-of-type {\n",
       "        vertical-align: middle;\n",
       "    }\n",
       "\n",
       "    .dataframe tbody tr th {\n",
       "        vertical-align: top;\n",
       "    }\n",
       "\n",
       "    .dataframe thead th {\n",
       "        text-align: right;\n",
       "    }\n",
       "</style>\n",
       "<table border=\"1\" class=\"dataframe\">\n",
       "  <thead>\n",
       "    <tr style=\"text-align: right;\">\n",
       "      <th></th>\n",
       "      <th>tickets_sold</th>\n",
       "    </tr>\n",
       "    <tr>\n",
       "      <th>start_time</th>\n",
       "      <th></th>\n",
       "    </tr>\n",
       "  </thead>\n",
       "  <tbody>\n",
       "    <tr>\n",
       "      <th>10:30</th>\n",
       "      <td>72.915278</td>\n",
       "    </tr>\n",
       "    <tr>\n",
       "      <th>11:30</th>\n",
       "      <td>77.870781</td>\n",
       "    </tr>\n",
       "    <tr>\n",
       "      <th>12:30</th>\n",
       "      <td>76.886667</td>\n",
       "    </tr>\n",
       "    <tr>\n",
       "      <th>13:15</th>\n",
       "      <td>74.974852</td>\n",
       "    </tr>\n",
       "    <tr>\n",
       "      <th>13:45</th>\n",
       "      <td>77.615007</td>\n",
       "    </tr>\n",
       "  </tbody>\n",
       "</table>\n",
       "</div>"
      ],
      "text/plain": [
       "            tickets_sold\n",
       "start_time              \n",
       "10:30          72.915278\n",
       "11:30          77.870781\n",
       "12:30          76.886667\n",
       "13:15          74.974852\n",
       "13:45          77.615007"
      ]
     },
     "execution_count": 8,
     "metadata": {},
     "output_type": "execute_result"
    }
   ],
   "source": [
    "# Create a summary dataframe with groupby and agg\n",
    "starttime_df = session_df[['start_time', 'tickets_sold']].groupby('start_time').agg('mean')\n",
    "starttime_df.head()"
   ]
  },
  {
   "cell_type": "code",
   "execution_count": 9,
   "metadata": {
    "ExecuteTime": {
     "end_time": "2021-12-06T01:25:41.235293Z",
     "start_time": "2021-12-06T01:25:41.067528Z"
    }
   },
   "outputs": [
    {
     "data": {
      "image/png": "[encoded data removed]",
      "text/plain": [
       "<Figure size 1080x504 with 1 Axes>"
      ]
     },
     "metadata": {},
     "output_type": "display_data"
    }
   ],
   "source": [
    "plt.bar(starttime_df.index,\n",
    "        starttime_df['tickets_sold'])\n",
    "\n",
    "plt.xticks(rotation=30)\n",
    "plt.title('Average Ticket Sales over Time')\n",
    "\n",
    "plt.show()"
   ]
  },
  {
   "cell_type": "markdown",
   "metadata": {},
   "source": [
    "**Discussion Question: Is there a difference in average ticket sales for different start times?**"
   ]
  },
  {
   "cell_type": "markdown",
   "metadata": {},
   "source": [
    "Answer: From what we can see, there seems to be some variation between start times, but not really much (less than 10)."
   ]
  },
  {
   "cell_type": "markdown",
   "metadata": {},
   "source": [
    "## <u>Concept: `.apply(lambda x: )`</u>\n",
    "This is a very useful and advanced concept that is used hand-in-hand with the `df.apply()` method."
   ]
  },
  {
   "cell_type": "code",
   "execution_count": 17,
   "metadata": {
    "ExecuteTime": {
     "end_time": "2021-12-06T01:25:55.287043Z",
     "start_time": "2021-12-06T01:25:55.282739Z"
    }
   },
   "outputs": [],
   "source": [
    "# read in the subset again\n",
    "subset_df = pd.read_csv('subset.csv')"
   ]
  },
  {
   "cell_type": "code",
   "execution_count": 18,
   "metadata": {
    "ExecuteTime": {
     "end_time": "2021-12-06T01:25:55.467580Z",
     "start_time": "2021-12-06T01:25:55.465216Z"
    }
   },
   "outputs": [],
   "source": [
    "# Write a function get_month() to get the month as int from the \"yyyy-mm-dd\" template\n",
    "def get_month(date):\n",
    "    \"\"\"\n",
    "    Gets the month assuming yyyy-mm-dd in a naive manner\n",
    "    \"\"\"\n",
    "    return int(date.split('-')[1])"
   ]
  },
  {
   "cell_type": "code",
   "execution_count": 19,
   "metadata": {
    "ExecuteTime": {
     "end_time": "2021-12-06T01:25:55.641951Z",
     "start_time": "2021-12-06T01:25:55.636686Z"
    }
   },
   "outputs": [
    {
     "data": {
      "text/plain": [
       "0      10\n",
       "1       2\n",
       "2       4\n",
       "3      11\n",
       "4      11\n",
       "       ..\n",
       "295     9\n",
       "296     8\n",
       "297    10\n",
       "298    11\n",
       "299    12\n",
       "Name: month, Length: 300, dtype: int64"
      ]
     },
     "execution_count": 19,
     "metadata": {},
     "output_type": "execute_result"
    }
   ],
   "source": [
    "# Here, we can directly \"apply\" the function\n",
    "subset_df['month'] = subset_df['session_date'].apply(get_month)\n",
    "subset_df['month']"
   ]
  },
  {
   "cell_type": "markdown",
   "metadata": {},
   "source": [
    "However, this can be simplified into a single line (without a function definition) using `lambda`. Here's the equivalent code."
   ]
  },
  {
   "cell_type": "code",
   "execution_count": 20,
   "metadata": {
    "ExecuteTime": {
     "end_time": "2021-12-06T01:25:56.438554Z",
     "start_time": "2021-12-06T01:25:56.433806Z"
    }
   },
   "outputs": [
    {
     "data": {
      "text/plain": [
       "0      10\n",
       "1       2\n",
       "2       4\n",
       "3      11\n",
       "4      11\n",
       "       ..\n",
       "295     9\n",
       "296     8\n",
       "297    10\n",
       "298    11\n",
       "299    12\n",
       "Name: month_lambda, Length: 300, dtype: int64"
      ]
     },
     "execution_count": 20,
     "metadata": {},
     "output_type": "execute_result"
    }
   ],
   "source": [
    "subset_df['month_lambda'] = subset_df['session_date'].apply(lambda date: int(date.split('-')[1]))\n",
    "subset_df['month_lambda']"
   ]
  },
  {
   "cell_type": "code",
   "execution_count": null,
   "metadata": {},
   "outputs": [],
   "source": []
  }
 ],
 "metadata": {
  "kernelspec": {
   "display_name": "Python 3 (ipykernel)",
   "language": "python",
   "name": "python3"
  },
  "language_info": {
   "codemirror_mode": {
    "name": "ipython",
    "version": 3
   },
   "file_extension": ".py",
   "mimetype": "text/x-python",
   "name": "python",
   "nbconvert_exporter": "python",
   "pygments_lexer": "ipython3",
   "version": "3.8.10"
  },
  "latex_envs": {
   "LaTeX_envs_menu_present": true,
   "autoclose": false,
   "autocomplete": true,
   "bibliofile": "biblio.bib",
   "cite_by": "apalike",
   "current_citInitial": 1,
   "eqLabelWithNumbers": true,
   "eqNumInitial": 1,
   "hotkeys": {
    "equation": "Ctrl-E",
    "itemize": "Ctrl-I"
   },
   "labels_anchors": false,
   "latex_user_defs": false,
   "report_style_numbering": false,
   "user_envs_cfg": false
  },
  "toc": {
   "base_numbering": 1,
   "nav_menu": {},
   "number_sections": true,
   "sideBar": true,
   "skip_h1_title": false,
   "title_cell": "Table of Contents",
   "title_sidebar": "Contents",
   "toc_cell": false,
   "toc_position": {},
   "toc_section_display": true,
   "toc_window_display": false
  },
  "varInspector": {
   "cols": {
    "lenName": 16,
    "lenType": 16,
    "lenVar": 40
   },
   "kernels_config": {
    "python": {
     "delete_cmd_postfix": "",
     "delete_cmd_prefix": "del ",
     "library": "var_list.py",
     "varRefreshCmd": "print(var_dic_list())"
    },
    "r": {
     "delete_cmd_postfix": ") ",
     "delete_cmd_prefix": "rm(",
     "library": "var_list.r",
     "varRefreshCmd": "cat(var_dic_list()) "
    }
   },
   "types_to_exclude": [
    "module",
    "function",
    "builtin_function_or_method",
    "instance",
    "_Feature"
   ],
   "window_display": false
  }
 },
 "nbformat": 4,
 "nbformat_minor": 4
}
