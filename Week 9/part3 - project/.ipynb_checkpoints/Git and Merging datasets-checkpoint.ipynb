{
 "cells": [
  {
   "cell_type": "markdown",
   "id": "dd8d9112",
   "metadata": {},
   "source": [
    "# Workshop 18 Revised Part 3\n",
    "## Using `git` on JupyterHub\n",
    "1. Visit https://github.com/settings/tokens\n",
    "2. Generate a token (set it to expire end of this year)\n",
    "3. Add changes and commit as usual\n",
    "4. Now, after inputting your username, instead of entering your normal password, enter your generated PAT.\n",
    "5. Changes should be pushed.\n",
    "\n",
    "### First-Time Errors\n",
    "If you get the following error:\n",
    "```\n",
    "*** Please tell me who you are.\n",
    "\n",
    "Run\n",
    "\n",
    "  git config --global user.email \"you@example.com\"\n",
    "  git config --global user.name \"Your Name\"\n",
    "\n",
    "to set your account's default identity.\n",
    "Omit --global to set the identity only in this repository.\n",
    "\n",
    "fatal: unable to auto-detect email address\n",
    "```\n",
    "\n",
    "You will need to run the commands and **make sure you have the correct details**.\n",
    "- `user.email`: your github email\n",
    "- `user.name`: your github username\n",
    "\n",
    "\n",
    "### Cloning:\n",
    "1. Open a terminal (yes it is commandline git for this to work).\n",
    "2. `git clone URL` (where `URL` is the https url to your github repo).\n",
    "3. Enter your credentials (if required).\n",
    "4. Done.\n",
    "\n",
    "### Pushing:\n",
    "1. Change directories to inside your repository (`cd NAME_OF_REPO_FOLDER`).\n",
    "2. `git add -A` (this will stage all changed/untracked files files for the next commit, ignored files are excepted). You can use `git - status` to track changed files before adding.\n",
    "3. `git commit -m \"add some message here\"` (make a commit with a message).\n",
    "4. `git push`\n",
    "5. Enter your credentials.\n",
    "6. Here, use the same username\n",
    "7. **BUT, instead of your password, use the PAT you generated.**\n",
    "8. Done.\n",
    "\n",
    "### Pulling:\n",
    "1. Change directories to inside your repository (`cd NAME_OF_REPO_FOLDER`).\n",
    "2. `git pull`\n",
    "3. Done.\n",
    "\n",
    "## Using `git` Locally\n",
    "1. Download and install GitHub Desktop: https://desktop.github.com/\n",
    "2. Login with your details\n",
    "3. Go to the left side-bar and click on `Add`. \n",
    "4. If you already have a group repository created, use `Clone Repository` $\\rightarrow$ `URL` and copy/paste the repository URL there. If you are the creator of the group repository, use `Create Repository`, fill in the details, and **make sure you check \"Initialize this repository with a README\"**.\n",
    "\n",
    "### Pushing:\n",
    "1. Go to the left side-bar inside GitHub desktop and you will notice `Changes`.\n",
    "2. Add a commit message that's useful (i.e \"added correlation analysis\").\n",
    "3. Click on the blue `commit to main` button.\n",
    "4. Push.\n",
    "5. Done.\n",
    "\n",
    "### Pulling:\n",
    "1. Go to the repository inside GitHub desktop\n",
    "2. You should notice there's an \"download\" arrow with some changes to pull.\n",
    "3. Click on it.\n",
    "5. Done."
   ]
  },
  {
   "cell_type": "markdown",
   "id": "47c47dc7",
   "metadata": {},
   "source": [
    "# Project 2 Starters"
   ]
  },
  {
   "cell_type": "code",
   "execution_count": null,
   "id": "8a359d07",
   "metadata": {
    "ExecuteTime": {
     "end_time": "2021-12-06T01:55:22.351280Z",
     "start_time": "2021-12-06T01:55:22.315627Z"
    }
   },
   "outputs": [],
   "source": [
    "import pandas as pd\n",
    "\n",
    "df1 = pd.read_csv('price_demand_data.csv')\n",
    "df2 = pd.read_csv('weather_data.csv')"
   ]
  },
  {
   "cell_type": "code",
   "execution_count": null,
   "id": "c51833fe",
   "metadata": {
    "ExecuteTime": {
     "end_time": "2021-12-06T01:55:22.512937Z",
     "start_time": "2021-12-06T01:55:22.506999Z"
    }
   },
   "outputs": [],
   "source": [
    "df1.head()"
   ]
  },
  {
   "cell_type": "code",
   "execution_count": null,
   "id": "1eba0347",
   "metadata": {
    "ExecuteTime": {
     "end_time": "2021-12-06T01:55:22.688675Z",
     "start_time": "2021-12-06T01:55:22.672189Z"
    }
   },
   "outputs": [],
   "source": [
    "df2.head()"
   ]
  },
  {
   "cell_type": "code",
   "execution_count": null,
   "id": "b4e88b83",
   "metadata": {
    "ExecuteTime": {
     "end_time": "2021-12-06T01:55:28.960950Z",
     "start_time": "2021-12-06T01:55:28.952010Z"
    }
   },
   "outputs": [],
   "source": [
    "# get the dd/mm/yyyy field from SETTLEMENTDATE so we can join it with the weather\n",
    "df1['Date'] = df1['SETTLEMENTDATE'].apply(lambda x: x.split()[0])\n",
    "df1.head()"
   ]
  },
  {
   "cell_type": "markdown",
   "id": "959adc7f",
   "metadata": {
    "ExecuteTime": {
     "end_time": "2021-12-06T01:53:51.270980Z",
     "start_time": "2021-12-06T01:53:51.255267Z"
    }
   },
   "source": [
    "Now, we can \"merge\" the two datasets based on the datetime.\n",
    "- `df1` (price), we use the newly created `Date` field\n",
    "- `df2` (weather), we use the existing `Date` field\n",
    "\n",
    "The merge method used as `left_table.merge(right_table, arguments...)`"
   ]
  },
  {
   "cell_type": "code",
   "execution_count": null,
   "id": "a460a5ec",
   "metadata": {
    "ExecuteTime": {
     "end_time": "2021-12-06T01:57:27.042941Z",
     "start_time": "2021-12-06T01:57:27.013184Z"
    },
    "code_folding": []
   },
   "outputs": [],
   "source": [
    "data = df1.merge(df2, left_on='Date', right_on='Date')\n",
    "data"
   ]
  }
 ],
 "metadata": {
  "kernelspec": {
   "display_name": "Python 3 (ipykernel)",
   "language": "python",
   "name": "python3"
  },
  "language_info": {
   "codemirror_mode": {
    "name": "ipython",
    "version": 3
   },
   "file_extension": ".py",
   "mimetype": "text/x-python",
   "name": "python",
   "nbconvert_exporter": "python",
   "pygments_lexer": "ipython3",
   "version": "3.8.10"
  },
  "latex_envs": {
   "LaTeX_envs_menu_present": true,
   "autoclose": false,
   "autocomplete": true,
   "bibliofile": "biblio.bib",
   "cite_by": "apalike",
   "current_citInitial": 1,
   "eqLabelWithNumbers": true,
   "eqNumInitial": 1,
   "hotkeys": {
    "equation": "Ctrl-E",
    "itemize": "Ctrl-I"
   },
   "labels_anchors": false,
   "latex_user_defs": false,
   "report_style_numbering": false,
   "user_envs_cfg": false
  },
  "varInspector": {
   "cols": {
    "lenName": 16,
    "lenType": 16,
    "lenVar": 40
   },
   "kernels_config": {
    "python": {
     "delete_cmd_postfix": "",
     "delete_cmd_prefix": "del ",
     "library": "var_list.py",
     "varRefreshCmd": "print(var_dic_list())"
    },
    "r": {
     "delete_cmd_postfix": ") ",
     "delete_cmd_prefix": "rm(",
     "library": "var_list.r",
     "varRefreshCmd": "cat(var_dic_list()) "
    }
   },
   "types_to_exclude": [
    "module",
    "function",
    "builtin_function_or_method",
    "instance",
    "_Feature"
   ],
   "window_display": false
  }
 },
 "nbformat": 4,
 "nbformat_minor": 5
}
