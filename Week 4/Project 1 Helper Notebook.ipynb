{
 "cells": [
  {
   "cell_type": "markdown",
   "id": "c881517a",
   "metadata": {
    "ExecuteTime": {
     "end_time": "2021-11-01T01:16:41.613489Z",
     "start_time": "2021-11-01T01:16:41.610579Z"
    }
   },
   "source": [
    "## Question 1 - Example 1"
   ]
  },
  {
   "cell_type": "markdown",
   "id": "e7139b82",
   "metadata": {},
   "source": [
    "<table border=\"1\" class=\"dataframe\">\n",
    "  <thead>\n",
    "    <tr style=\"text-align: right;\">\n",
    "      <th></th>\n",
    "      <th>0</th>\n",
    "      <th>1</th>\n",
    "      <th>2</th>\n",
    "      <th>3</th>\n",
    "      <th>4</th>\n",
    "    </tr>\n",
    "  </thead>\n",
    "  <tbody>\n",
    "    <tr>\n",
    "      <th>0</th>\n",
    "      <td>0</td>\n",
    "      <td>-1000</td>\n",
    "      <td>0</td>\n",
    "      <td>0</td>\n",
    "      <td>0</td>\n",
    "    </tr>\n",
    "    <tr>\n",
    "      <th>1</th>\n",
    "      <td>0</td>\n",
    "      <td>0</td>\n",
    "      <td>150</td>\n",
    "      <td>0</td>\n",
    "      <td>-1000</td>\n",
    "    </tr>\n",
    "    <tr>\n",
    "      <th>2</th>\n",
    "      <td>0</td>\n",
    "      <td>-1000</td>\n",
    "      <td>1000</td>\n",
    "      <td>-1000</td>\n",
    "      <td>0</td>\n",
    "    </tr>\n",
    "    <tr>\n",
    "      <th>3</th>\n",
    "      <td>-1000</td>\n",
    "      <td>1000</td>\n",
    "      <td>-1000</td>\n",
    "      <td>-150</td>\n",
    "      <td>0</td>\n",
    "    </tr>\n",
    "    <tr>\n",
    "      <th>4</th>\n",
    "      <td>1000</td>\n",
    "      <td>150</td>\n",
    "      <td>0</td>\n",
    "      <td>0</td>\n",
    "      <td>-150</td>\n",
    "    </tr>\n",
    "  </tbody>\n",
    "</table>"
   ]
  },
  {
   "cell_type": "markdown",
   "id": "2d5e617a",
   "metadata": {},
   "source": [
    "General Notes:\n",
    "- Always start from `(0, 0)` (top left)\n",
    "- Always end at `(N-1, N-1)` (bottom right, think indexing from 0!).\n",
    "- Therefore, a `5x5` grid will end at `(4, 4)` as shown in the example above.\n",
    "\n",
    "Special cases:\n",
    "- Whilst the cave entrance is always neutral (0 score), the goal may have a treasure or trap on it.\n",
    "- You must always include the goal tile/cell (even if its a negative score)."
   ]
  },
  {
   "cell_type": "markdown",
   "id": "20028104",
   "metadata": {},
   "source": [
    "Pseudocode:\n",
    "```python\n",
    "def dream_score(matrix):\n",
    "    \"\"\"\n",
    "    A function that returns the max possible score for Eve\n",
    "    \"\"\"\n",
    "    for each row in the matrix:\n",
    "        for each column in the matrix:\n",
    "            get the score if it is worth some points\n",
    "            \n",
    "    make sure to get the goal score even if its negative\n",
    "    return final score\n",
    "```"
   ]
  },
  {
   "cell_type": "markdown",
   "id": "8ed79b1f",
   "metadata": {},
   "source": [
    "## Question 2 - Example 2\n",
    "A path is only valid when Eve ends at the goal coordinate `(N-1, N-1)` and the path consists of only legal moves between coordinates. \n",
    "\n",
    "Remember that coordinates must be inside the grid and legal moves are 1 unit: \n",
    "- Right (East)\n",
    "- Down (South)\n",
    "- Diagonal-Right-Down (South-East)\n",
    "\n",
    "Hint: Think about adding two vectors for a more concise solution\n",
    "\n",
    "For this question, we ignore scores and focus purely on the \"validity\" of the provided path."
   ]
  },
  {
   "cell_type": "markdown",
   "id": "ed11ccd7",
   "metadata": {},
   "source": [
    "Consider the following example:\n",
    "\n",
    "```python\n",
    "valid_path(4, [(0,0),(0,1),(0,2),(1,2),(2,3),(3,3)])\n",
    "```\n",
    "\n",
    "<table border=\"1\" class=\"dataframe\">\n",
    "  <thead>\n",
    "    <tr style=\"text-align: right;\">\n",
    "      <th></th>\n",
    "      <th>0</th>\n",
    "      <th>1</th>\n",
    "      <th>2</th>\n",
    "      <th>3</th>\n",
    "    </tr>\n",
    "  </thead>\n",
    "  <tbody>\n",
    "    <tr>\n",
    "      <th>0</th>\n",
    "      <td>*</td>\n",
    "      <td>*</td>\n",
    "      <td>*</td>\n",
    "      <td>*</td>\n",
    "    </tr>\n",
    "    <tr>\n",
    "      <th>1</th>\n",
    "      <td>*</td>\n",
    "      <td>*</td>\n",
    "      <td>*</td>\n",
    "      <td>*</td>\n",
    "    </tr>\n",
    "    <tr>\n",
    "      <th>2</th>\n",
    "      <td>*</td>\n",
    "      <td>*</td>\n",
    "      <td>*</td>\n",
    "      <td>*</td>\n",
    "    </tr>\n",
    "    <tr>\n",
    "      <th>3</th>\n",
    "      <td>*</td>\n",
    "      <td>*</td>\n",
    "      <td>*</td>\n",
    "      <td>*</td>\n",
    "    </tr>\n",
    "  </tbody>\n",
    "</table>\n",
    "\n",
    "Here, we have:\n",
    "- `N` to be 4, hence a `4x4` grid which has a goal tile/cell at `(3, 3)`\n",
    "- The list of actions/moves given as `[(0,0),(0,1),(0,2),(1,2),(2,3),(3,3)]`\n",
    "\n",
    "\n",
    "You should interpret each coordinate as `(column, row)`. For example, `(1, 2)` would be `Col=1`, `Row=2`. Although this may be a bit awkward, we've done it to ensure students actually understand how to index nested lists and not just copy/pasted an online approach."
   ]
  },
  {
   "cell_type": "markdown",
   "id": "0dc403eb",
   "metadata": {},
   "source": [
    "This question is best done with a `while` loop, but easier to implement using a `for` loop.\n",
    "\n",
    "Here's some pseudocode.\n",
    "```python\n",
    "def valid_path(N, path):\n",
    "    \"\"\"\n",
    "    A function which validates the path of an NxN matrix\n",
    "    \"\"\"\n",
    "    if the path does not end at the goal coordinate, it is invalid\n",
    "    \n",
    "    for each move made in the path:\n",
    "        if the current coordinate is outside the grid, it is invalid\n",
    "        generate a list of valid coordinates given the previous coordinate\n",
    "        check to see if the current coordinate is inside the list of generated coordinates\n",
    "            \n",
    "    return the validity of the path\n",
    "```\n",
    "\n",
    "If you plan on using a `while` loop, then we strongly suggest you use something like `list.pop(0)`. That is, pop the 0th index element out of the list `while` there exists elements inside `path`."
   ]
  },
  {
   "cell_type": "markdown",
   "id": "abbe27ca",
   "metadata": {},
   "source": [
    "## Final Remarks\n",
    "- Once again, this project is expected to be somewhat difficult and take a lot of time.\n",
    "- The pseudocodes I have provided aren't the best approaches, but rather, approaches that are a bit easier to implement. If your solution/approach is different, that is also fine."
   ]
  }
 ],
 "metadata": {
  "kernelspec": {
   "display_name": "Python 3 (ipykernel)",
   "language": "python",
   "name": "python3"
  },
  "language_info": {
   "codemirror_mode": {
    "name": "ipython",
    "version": 3
   },
   "file_extension": ".py",
   "mimetype": "text/x-python",
   "name": "python",
   "nbconvert_exporter": "python",
   "pygments_lexer": "ipython3",
   "version": "3.8.10"
  },
  "latex_envs": {
   "LaTeX_envs_menu_present": true,
   "autoclose": false,
   "autocomplete": true,
   "bibliofile": "biblio.bib",
   "cite_by": "apalike",
   "current_citInitial": 1,
   "eqLabelWithNumbers": true,
   "eqNumInitial": 1,
   "hotkeys": {
    "equation": "Ctrl-E",
    "itemize": "Ctrl-I"
   },
   "labels_anchors": false,
   "latex_user_defs": false,
   "report_style_numbering": false,
   "user_envs_cfg": false
  },
  "toc": {
   "base_numbering": 1,
   "nav_menu": {},
   "number_sections": true,
   "sideBar": true,
   "skip_h1_title": false,
   "title_cell": "Table of Contents",
   "title_sidebar": "Contents",
   "toc_cell": false,
   "toc_position": {},
   "toc_section_display": true,
   "toc_window_display": false
  },
  "varInspector": {
   "cols": {
    "lenName": 16,
    "lenType": 16,
    "lenVar": 40
   },
   "kernels_config": {
    "python": {
     "delete_cmd_postfix": "",
     "delete_cmd_prefix": "del ",
     "library": "var_list.py",
     "varRefreshCmd": "print(var_dic_list())"
    },
    "r": {
     "delete_cmd_postfix": ") ",
     "delete_cmd_prefix": "rm(",
     "library": "var_list.r",
     "varRefreshCmd": "cat(var_dic_list()) "
    }
   },
   "types_to_exclude": [
    "module",
    "function",
    "builtin_function_or_method",
    "instance",
    "_Feature"
   ],
   "window_display": false
  }
 },
 "nbformat": 4,
 "nbformat_minor": 5
}
