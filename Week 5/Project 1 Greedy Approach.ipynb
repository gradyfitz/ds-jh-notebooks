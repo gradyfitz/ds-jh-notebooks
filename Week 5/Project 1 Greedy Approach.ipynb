{
 "cells": [
  {
   "cell_type": "markdown",
   "id": "8ed79b1f",
   "metadata": {},
   "source": [
    "## Question 3 - Example 1\n",
    "Your next problem is to identify a valid path based on a greedy algorithm called \"Best First Search\". A greedy algorithm makes the best choice possible from its current state (coordinate), without consideration of consequences that occur later on.\n",
    "\n",
    "To summarise this question, your plan and approach should be something like this:\n",
    "- _At the current location, what is the best action I can take?_\n",
    "\n",
    "Remember, Eve will always have at most 3 moves to decide from (East, South-East, South). If there are ties, then Eve will prefer East over South, and South over South-East."
   ]
  },
  {
   "cell_type": "markdown",
   "id": "0dc403eb",
   "metadata": {},
   "source": [
    "This question will be much easier if you implement a helper function!\n",
    "\n",
    "Here's some pseudocode.\n",
    "```python\n",
    "def possible_moves(...):\n",
    "    \"\"\"\n",
    "    Generate valid moves in order of preference\n",
    "    \"\"\"\n",
    "    valid_moves = []\n",
    "    \n",
    "    generate a list of potential moves\n",
    "    \n",
    "    for each move generated:\n",
    "        if the move is valid and inside the grid:\n",
    "            then add it to valid_moves\n",
    "    \n",
    "    return valid_moves\n",
    "\n",
    "def greedy_path(matrix):\n",
    "    \"\"\"\n",
    "    Solve the best path using Best First Search\n",
    "    \"\"\"\n",
    "    we always start from (0, 0) and end on (N - 1, N - 1)\n",
    "    \n",
    "    # initialise a list to keep track of the current path\n",
    "    # we start from (0, 0) so we can initialise it like this\n",
    "    start = (0, 0)\n",
    "    path_so_far = [start]\n",
    "    \n",
    "    while we are not at the goal:\n",
    "\n",
    "        for move in possible_moves(...):\n",
    "            get the score\n",
    "            if the score > existing score:\n",
    "                update existing score to be the current score\n",
    "        \n",
    "        add the best move to the path_so_far\n",
    "    \n",
    "    return the path and total score\n",
    "```\n",
    "\n",
    "Once again, this is just one approach of many and if you find another way that works, that's fine! This is just here to help you in case you are stuck!\n",
    "\n",
    "**Final Tips:**\n",
    "- Attempt some of the examples _by hand_. By doing so, you may be able to formulate some logic to describe what you did.\n",
    "- Helper functions will greatly simplify the problem (as noted above)\n",
    "- Think up of test cases that may be difficult! (i.e a very large grid, all negative values, all positive values, etc)"
   ]
  },
  {
   "cell_type": "code",
   "execution_count": null,
   "id": "2ab2dc32",
   "metadata": {},
   "outputs": [],
   "source": []
  }
 ],
 "metadata": {
  "kernelspec": {
   "display_name": "Python 3 (ipykernel)",
   "language": "python",
   "name": "python3"
  },
  "language_info": {
   "codemirror_mode": {
    "name": "ipython",
    "version": 3
   },
   "file_extension": ".py",
   "mimetype": "text/x-python",
   "name": "python",
   "nbconvert_exporter": "python",
   "pygments_lexer": "ipython3",
   "version": "3.8.10"
  },
  "latex_envs": {
   "LaTeX_envs_menu_present": true,
   "autoclose": false,
   "autocomplete": true,
   "bibliofile": "biblio.bib",
   "cite_by": "apalike",
   "current_citInitial": 1,
   "eqLabelWithNumbers": true,
   "eqNumInitial": 1,
   "hotkeys": {
    "equation": "Ctrl-E",
    "itemize": "Ctrl-I"
   },
   "labels_anchors": false,
   "latex_user_defs": false,
   "report_style_numbering": false,
   "user_envs_cfg": false
  },
  "toc": {
   "base_numbering": 1,
   "nav_menu": {},
   "number_sections": true,
   "sideBar": true,
   "skip_h1_title": false,
   "title_cell": "Table of Contents",
   "title_sidebar": "Contents",
   "toc_cell": false,
   "toc_position": {},
   "toc_section_display": true,
   "toc_window_display": false
  },
  "varInspector": {
   "cols": {
    "lenName": 16,
    "lenType": 16,
    "lenVar": 40
   },
   "kernels_config": {
    "python": {
     "delete_cmd_postfix": "",
     "delete_cmd_prefix": "del ",
     "library": "var_list.py",
     "varRefreshCmd": "print(var_dic_list())"
    },
    "r": {
     "delete_cmd_postfix": ") ",
     "delete_cmd_prefix": "rm(",
     "library": "var_list.r",
     "varRefreshCmd": "cat(var_dic_list()) "
    }
   },
   "types_to_exclude": [
    "module",
    "function",
    "builtin_function_or_method",
    "instance",
    "_Feature"
   ],
   "window_display": false
  }
 },
 "nbformat": 4,
 "nbformat_minor": 5
}
