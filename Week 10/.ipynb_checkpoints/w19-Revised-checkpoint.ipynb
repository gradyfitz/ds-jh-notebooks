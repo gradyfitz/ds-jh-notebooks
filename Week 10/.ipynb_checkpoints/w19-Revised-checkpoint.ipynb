{
 "cells": [
  {
   "cell_type": "markdown",
   "id": "ac0ef5a9",
   "metadata": {},
   "source": [
    "# Introduction to Machine Learning\n",
    "Machine Learning (ML) is a subset of Artificial Intelligence (AI) that provides systems the ability to automatically learn and infer _patterns_ or _trends_ without being explicitly programmed (i.e hardcoding `if` statements). \n",
    "\n",
    "ML Algorithms are often categorized as Supervised or Unsupervised.\n",
    "- Supervised Learning: an approach defined by its use of labeled datasets. These datasets are designed to train or supervise algorithms into classifying data or predicting outcomes accurately. Using labeled inputs and outputs, the model can measure its accuracy and learn over time.\n",
    "- Unsupervised Learning: an approach which primarily works on unlabeled data sets to _cluster_ or _group_ similar data points together. These algorithms discover hidden patterns in data without the need for human intervention.\n",
    "\n",
    "For this workshop, we will focus on two Supervised Learning algorithms:\n",
    "- Decision Trees\n",
    "- Linear Regression\n",
    "\n",
    "Some examples of other models you have covered in lectures include:\n",
    "- Multiple Linear Regression (Regression based Supervised Learning)\n",
    "- $k$-Nearest Neighbors (Clustering based Unsupervised Learning)\n",
    "- $k$-Means (Clustering based Unsupervised Learning)\n",
    "\n",
    "## Classification\n",
    "Classification is the task of approximating some mapping function $f$ from input variables $X$ to discrete output variables $y$. In layman's terms:\n",
    "- Given some input $X$ (i.e dataset);\n",
    "- and some function $f$ (i.e a ML model);\n",
    "- output some discrete variable $y$ (i.e a category or classification).\n",
    "\n",
    "A very common example of Classification is the categorizing emails as either _spam_ or _not spam_:\n",
    "- The model is trained with emails that are categorized as _spam_ and also _not spam_.\n",
    "- Given enough data points, the model may learn specific _words_ or _trends_ inside the email which result in an email being _spam_.\n",
    "\n",
    "## Regression (Predictive Modelling)\n",
    "Regression is the task of approximating some mapping function $f$ from input variables $X$ to continuous output variables $y$. In layman's terms:\n",
    "- Given some input $X$ (i.e dataset);\n",
    "- and some function $f$ (i.e a ML model);\n",
    "- output some continuous variable $y$ (i.e a number or numerical value).\n",
    "\n",
    "A common example of Regression is to predict the price of a _house_ given some features (i.e location, number of rooms, etc).\n",
    "\n",
    "## Classification and Regression with respect to Project 2\n",
    "- Regression: Predicting the _maximum daily energy usage_ based on the provided weather data (the energy spot price).\n",
    "- Classification: Predicting the _maximum daily price category_ based on the provided weather data (category of usage).\n",
    "\n",
    "I've discussed with Chris regarding the interpretation of the question. Whilst we originally intended for it to be the _maximum value of the day_, we've agreed to also allow the _maximum total usage of the day_ (i.e the cumulative sum of the day). You won't be penalized for using either approach as they are both correct and valid!"
   ]
  },
  {
   "cell_type": "markdown",
   "id": "71a0c80a",
   "metadata": {},
   "source": [
    "---"
   ]
  },
  {
   "cell_type": "markdown",
   "id": "90d9ff5d",
   "metadata": {},
   "source": [
    "# Decision Trees\n",
    "\n",
    "## Information Gain (IG)\n",
    "Information Gain (IG) is essentially Mutual Information (MI), but specific to a Feature and Class Label. Like MI, the larger the value, the more _information will be gained_ (hence its called Information Gain). Decision Trees (DT) use IG as a criterion to _split_ features. \n",
    "\n",
    "Differences:\n",
    "- MI is mainly used between two features (let's say Feature A and Feature B).\n",
    "- IG is specifically used between a single feature and class label (let's say Feature A and class label $y$)\n",
    "\n",
    "Formula:\n",
    "- $IG(y, A) = H(y) - H(y|A)$\n",
    "\n",
    "where:\n",
    "- $H(y)=-\\sum P(y=y_i)\\log_2(P(y=y_i))$ is the entropy of the class label $y$;\n",
    "- and $H(y|A) = \\sum P(A=a_i)\\log_2(P(y | A=a_i))$ is the conditional entropy of $y$ given $A$\n",
    "\n",
    "Think of IG as \"the entropy of the class labels minus the entropy of the class label given the feature\"."
   ]
  },
  {
   "cell_type": "markdown",
   "id": "3af5e004",
   "metadata": {},
   "source": [
    "## Class Discussion Classification Exercise 1 (By Hand)\n",
    "Consider the following data set for a binary (2) class problem and consider building a Decision Tree (DT) using this data:\n",
    "    \n",
    "Feature A | Feature B | Class Label \n",
    "--- | --- | --- \n",
    "T  | F | + \n",
    "T  | T | + \n",
    "T  | T | +\n",
    "T  | F | - \n",
    "T  | T | + \n",
    "F  | F | - \n",
    "F  | F | - \n",
    "F  | F | - \n",
    "T  | T | - \n",
    "T | F | - \n",
    "    \n",
    "- Calculate the IG when splitting on feature A.\n",
    "- Calculate the IG when splitting on feature B.\n",
    "- Which feature would the DT choose to split on?\n",
    "\n",
    "Hint: \n",
    "- Use a Contingency Table to simplify some of the calculations"
   ]
  },
  {
   "cell_type": "markdown",
   "id": "97c2e735",
   "metadata": {},
   "source": [
    "## Train Test Split\n",
    "Now, before we can _train_ our Decision Tree, we need to cover Train Test Split.\n",
    "\n",
    "Why?\n",
    "- We want to split our dataset into train and test to \"train\" our model (usually finding the coefficients or optimal parameters) before using the \"test\" set to **evaluate** our model.\n",
    "- A common split is to have 80% on training and 20% on test.\n",
    "- More advanced techniques include $k$-fold Cross Validation (CV).\n",
    "\n",
    "### Example Pima Indian Diabetes Dataset\n",
    "As an example dataset, we will use the [pima indian diabetes dataset](http://archive.ics.uci.edu/ml/machine-learning-databases/pima-indians-diabetes/pima-indians-diabetes.names), which records measurements about several hundred patients and an indication of whether or not they tested positive for diabetes (the class label).  The classification is therefore to predict whether a patient will test positive for diabetes, based on the various measurements.\n"
   ]
  },
  {
   "cell_type": "code",
   "execution_count": 1,
   "id": "b0932ff4",
   "metadata": {
    "ExecuteTime": {
     "end_time": "2021-12-13T02:16:10.462303Z",
     "start_time": "2021-12-13T02:16:10.212992Z"
    }
   },
   "outputs": [
    {
     "data": {
      "text/html": [
       "<div>\n",
       "<style scoped>\n",
       "    .dataframe tbody tr th:only-of-type {\n",
       "        vertical-align: middle;\n",
       "    }\n",
       "\n",
       "    .dataframe tbody tr th {\n",
       "        vertical-align: top;\n",
       "    }\n",
       "\n",
       "    .dataframe thead th {\n",
       "        text-align: right;\n",
       "    }\n",
       "</style>\n",
       "<table border=\"1\" class=\"dataframe\">\n",
       "  <thead>\n",
       "    <tr style=\"text-align: right;\">\n",
       "      <th></th>\n",
       "      <th>numpregnant</th>\n",
       "      <th>plasma</th>\n",
       "      <th>blood pressure</th>\n",
       "      <th>sf-thickness</th>\n",
       "      <th>serum-insulin</th>\n",
       "      <th>BMI</th>\n",
       "      <th>pedigree-function</th>\n",
       "      <th>age</th>\n",
       "      <th>has_diabetes</th>\n",
       "    </tr>\n",
       "  </thead>\n",
       "  <tbody>\n",
       "    <tr>\n",
       "      <th>0</th>\n",
       "      <td>6</td>\n",
       "      <td>148</td>\n",
       "      <td>72</td>\n",
       "      <td>35</td>\n",
       "      <td>0</td>\n",
       "      <td>33.6</td>\n",
       "      <td>0.627</td>\n",
       "      <td>50</td>\n",
       "      <td>1</td>\n",
       "    </tr>\n",
       "    <tr>\n",
       "      <th>1</th>\n",
       "      <td>1</td>\n",
       "      <td>85</td>\n",
       "      <td>66</td>\n",
       "      <td>29</td>\n",
       "      <td>0</td>\n",
       "      <td>26.6</td>\n",
       "      <td>0.351</td>\n",
       "      <td>31</td>\n",
       "      <td>0</td>\n",
       "    </tr>\n",
       "    <tr>\n",
       "      <th>2</th>\n",
       "      <td>8</td>\n",
       "      <td>183</td>\n",
       "      <td>64</td>\n",
       "      <td>0</td>\n",
       "      <td>0</td>\n",
       "      <td>23.3</td>\n",
       "      <td>0.672</td>\n",
       "      <td>32</td>\n",
       "      <td>1</td>\n",
       "    </tr>\n",
       "    <tr>\n",
       "      <th>3</th>\n",
       "      <td>1</td>\n",
       "      <td>89</td>\n",
       "      <td>66</td>\n",
       "      <td>23</td>\n",
       "      <td>94</td>\n",
       "      <td>28.1</td>\n",
       "      <td>0.167</td>\n",
       "      <td>21</td>\n",
       "      <td>0</td>\n",
       "    </tr>\n",
       "    <tr>\n",
       "      <th>4</th>\n",
       "      <td>0</td>\n",
       "      <td>137</td>\n",
       "      <td>40</td>\n",
       "      <td>35</td>\n",
       "      <td>168</td>\n",
       "      <td>43.1</td>\n",
       "      <td>2.288</td>\n",
       "      <td>33</td>\n",
       "      <td>1</td>\n",
       "    </tr>\n",
       "  </tbody>\n",
       "</table>\n",
       "</div>"
      ],
      "text/plain": [
       "   numpregnant  plasma  blood pressure  sf-thickness  serum-insulin   BMI  \\\n",
       "0            6     148              72            35              0  33.6   \n",
       "1            1      85              66            29              0  26.6   \n",
       "2            8     183              64             0              0  23.3   \n",
       "3            1      89              66            23             94  28.1   \n",
       "4            0     137              40            35            168  43.1   \n",
       "\n",
       "   pedigree-function  age  has_diabetes  \n",
       "0              0.627   50             1  \n",
       "1              0.351   31             0  \n",
       "2              0.672   32             1  \n",
       "3              0.167   21             0  \n",
       "4              2.288   33             1  "
      ]
     },
     "execution_count": 1,
     "metadata": {},
     "output_type": "execute_result"
    }
   ],
   "source": [
    "import pandas as pd\n",
    "\n",
    "df = pd.read_csv('pima-indians-diabetes.csv')\n",
    "df.head()"
   ]
  },
  {
   "cell_type": "markdown",
   "id": "4ce57acb",
   "metadata": {},
   "source": [
    "The Class Label $y$ will be `has_diabetes`; a feature consisting of `0=False` and `1=True`."
   ]
  },
  {
   "cell_type": "code",
   "execution_count": 2,
   "id": "5529401c",
   "metadata": {
    "ExecuteTime": {
     "end_time": "2021-12-13T02:16:10.470760Z",
     "start_time": "2021-12-13T02:16:10.463495Z"
    }
   },
   "outputs": [
    {
     "data": {
      "text/html": [
       "<div>\n",
       "<style scoped>\n",
       "    .dataframe tbody tr th:only-of-type {\n",
       "        vertical-align: middle;\n",
       "    }\n",
       "\n",
       "    .dataframe tbody tr th {\n",
       "        vertical-align: top;\n",
       "    }\n",
       "\n",
       "    .dataframe thead th {\n",
       "        text-align: right;\n",
       "    }\n",
       "</style>\n",
       "<table border=\"1\" class=\"dataframe\">\n",
       "  <thead>\n",
       "    <tr style=\"text-align: right;\">\n",
       "      <th></th>\n",
       "      <th>numpregnant</th>\n",
       "      <th>plasma</th>\n",
       "      <th>blood pressure</th>\n",
       "      <th>sf-thickness</th>\n",
       "      <th>serum-insulin</th>\n",
       "      <th>BMI</th>\n",
       "      <th>pedigree-function</th>\n",
       "      <th>age</th>\n",
       "    </tr>\n",
       "  </thead>\n",
       "  <tbody>\n",
       "    <tr>\n",
       "      <th>0</th>\n",
       "      <td>6</td>\n",
       "      <td>148</td>\n",
       "      <td>72</td>\n",
       "      <td>35</td>\n",
       "      <td>0</td>\n",
       "      <td>33.6</td>\n",
       "      <td>0.627</td>\n",
       "      <td>50</td>\n",
       "    </tr>\n",
       "    <tr>\n",
       "      <th>1</th>\n",
       "      <td>1</td>\n",
       "      <td>85</td>\n",
       "      <td>66</td>\n",
       "      <td>29</td>\n",
       "      <td>0</td>\n",
       "      <td>26.6</td>\n",
       "      <td>0.351</td>\n",
       "      <td>31</td>\n",
       "    </tr>\n",
       "    <tr>\n",
       "      <th>2</th>\n",
       "      <td>8</td>\n",
       "      <td>183</td>\n",
       "      <td>64</td>\n",
       "      <td>0</td>\n",
       "      <td>0</td>\n",
       "      <td>23.3</td>\n",
       "      <td>0.672</td>\n",
       "      <td>32</td>\n",
       "    </tr>\n",
       "    <tr>\n",
       "      <th>3</th>\n",
       "      <td>1</td>\n",
       "      <td>89</td>\n",
       "      <td>66</td>\n",
       "      <td>23</td>\n",
       "      <td>94</td>\n",
       "      <td>28.1</td>\n",
       "      <td>0.167</td>\n",
       "      <td>21</td>\n",
       "    </tr>\n",
       "    <tr>\n",
       "      <th>4</th>\n",
       "      <td>0</td>\n",
       "      <td>137</td>\n",
       "      <td>40</td>\n",
       "      <td>35</td>\n",
       "      <td>168</td>\n",
       "      <td>43.1</td>\n",
       "      <td>2.288</td>\n",
       "      <td>33</td>\n",
       "    </tr>\n",
       "  </tbody>\n",
       "</table>\n",
       "</div>"
      ],
      "text/plain": [
       "   numpregnant  plasma  blood pressure  sf-thickness  serum-insulin   BMI  \\\n",
       "0            6     148              72            35              0  33.6   \n",
       "1            1      85              66            29              0  26.6   \n",
       "2            8     183              64             0              0  23.3   \n",
       "3            1      89              66            23             94  28.1   \n",
       "4            0     137              40            35            168  43.1   \n",
       "\n",
       "   pedigree-function  age  \n",
       "0              0.627   50  \n",
       "1              0.351   31  \n",
       "2              0.672   32  \n",
       "3              0.167   21  \n",
       "4              2.288   33  "
      ]
     },
     "execution_count": 2,
     "metadata": {},
     "output_type": "execute_result"
    }
   ],
   "source": [
    "# Features (get all columns except the last one which is our label has_diabetes)\n",
    "X = df[df.columns[:-1]]\n",
    "X.head()"
   ]
  },
  {
   "cell_type": "code",
   "execution_count": 3,
   "id": "ef38431c",
   "metadata": {
    "ExecuteTime": {
     "end_time": "2021-12-13T02:16:10.475745Z",
     "start_time": "2021-12-13T02:16:10.471695Z"
    }
   },
   "outputs": [
    {
     "data": {
      "text/plain": [
       "0    1\n",
       "1    0\n",
       "2    1\n",
       "3    0\n",
       "4    1\n",
       "Name: has_diabetes, dtype: int64"
      ]
     },
     "execution_count": 3,
     "metadata": {},
     "output_type": "execute_result"
    }
   ],
   "source": [
    "# Class label\n",
    "y = df['has_diabetes']\n",
    "y.head()"
   ]
  },
  {
   "cell_type": "markdown",
   "id": "be2d27b5",
   "metadata": {},
   "source": [
    "Let's do a train test split using 80% for train and 20% for test. To do so, we can use `train_test_split` from `sklearn`."
   ]
  },
  {
   "cell_type": "code",
   "execution_count": 4,
   "id": "b63518d4",
   "metadata": {
    "ExecuteTime": {
     "end_time": "2021-12-13T02:16:10.775748Z",
     "start_time": "2021-12-13T02:16:10.477160Z"
    }
   },
   "outputs": [],
   "source": [
    "from sklearn.model_selection import train_test_split\n",
    "\n",
    "X_train, X_test, y_train, y_test = train_test_split(X, # features\n",
    "                                                    y, # class label\n",
    "                                                    train_size=0.8, # proportion to use for train\n",
    "                                                    test_size=0.2, # proportion to use for test\n",
    "                                                    random_state=42 # the random state is fixed to 42\n",
    "                                                   )"
   ]
  },
  {
   "cell_type": "code",
   "execution_count": 5,
   "id": "6a889bce",
   "metadata": {
    "ExecuteTime": {
     "end_time": "2021-12-13T02:16:10.783735Z",
     "start_time": "2021-12-13T02:16:10.776871Z"
    }
   },
   "outputs": [
    {
     "data": {
      "text/html": [
       "<div>\n",
       "<style scoped>\n",
       "    .dataframe tbody tr th:only-of-type {\n",
       "        vertical-align: middle;\n",
       "    }\n",
       "\n",
       "    .dataframe tbody tr th {\n",
       "        vertical-align: top;\n",
       "    }\n",
       "\n",
       "    .dataframe thead th {\n",
       "        text-align: right;\n",
       "    }\n",
       "</style>\n",
       "<table border=\"1\" class=\"dataframe\">\n",
       "  <thead>\n",
       "    <tr style=\"text-align: right;\">\n",
       "      <th></th>\n",
       "      <th>numpregnant</th>\n",
       "      <th>plasma</th>\n",
       "      <th>blood pressure</th>\n",
       "      <th>sf-thickness</th>\n",
       "      <th>serum-insulin</th>\n",
       "      <th>BMI</th>\n",
       "      <th>pedigree-function</th>\n",
       "      <th>age</th>\n",
       "    </tr>\n",
       "  </thead>\n",
       "  <tbody>\n",
       "    <tr>\n",
       "      <th>60</th>\n",
       "      <td>2</td>\n",
       "      <td>84</td>\n",
       "      <td>0</td>\n",
       "      <td>0</td>\n",
       "      <td>0</td>\n",
       "      <td>0.0</td>\n",
       "      <td>0.304</td>\n",
       "      <td>21</td>\n",
       "    </tr>\n",
       "    <tr>\n",
       "      <th>618</th>\n",
       "      <td>9</td>\n",
       "      <td>112</td>\n",
       "      <td>82</td>\n",
       "      <td>24</td>\n",
       "      <td>0</td>\n",
       "      <td>28.2</td>\n",
       "      <td>1.282</td>\n",
       "      <td>50</td>\n",
       "    </tr>\n",
       "    <tr>\n",
       "      <th>346</th>\n",
       "      <td>1</td>\n",
       "      <td>139</td>\n",
       "      <td>46</td>\n",
       "      <td>19</td>\n",
       "      <td>83</td>\n",
       "      <td>28.7</td>\n",
       "      <td>0.654</td>\n",
       "      <td>22</td>\n",
       "    </tr>\n",
       "    <tr>\n",
       "      <th>294</th>\n",
       "      <td>0</td>\n",
       "      <td>161</td>\n",
       "      <td>50</td>\n",
       "      <td>0</td>\n",
       "      <td>0</td>\n",
       "      <td>21.9</td>\n",
       "      <td>0.254</td>\n",
       "      <td>65</td>\n",
       "    </tr>\n",
       "    <tr>\n",
       "      <th>231</th>\n",
       "      <td>6</td>\n",
       "      <td>134</td>\n",
       "      <td>80</td>\n",
       "      <td>37</td>\n",
       "      <td>370</td>\n",
       "      <td>46.2</td>\n",
       "      <td>0.238</td>\n",
       "      <td>46</td>\n",
       "    </tr>\n",
       "  </tbody>\n",
       "</table>\n",
       "</div>"
      ],
      "text/plain": [
       "     numpregnant  plasma  blood pressure  sf-thickness  serum-insulin   BMI  \\\n",
       "60             2      84               0             0              0   0.0   \n",
       "618            9     112              82            24              0  28.2   \n",
       "346            1     139              46            19             83  28.7   \n",
       "294            0     161              50             0              0  21.9   \n",
       "231            6     134              80            37            370  46.2   \n",
       "\n",
       "     pedigree-function  age  \n",
       "60               0.304   21  \n",
       "618              1.282   50  \n",
       "346              0.654   22  \n",
       "294              0.254   65  \n",
       "231              0.238   46  "
      ]
     },
     "execution_count": 5,
     "metadata": {},
     "output_type": "execute_result"
    }
   ],
   "source": [
    "X_train.head()"
   ]
  },
  {
   "cell_type": "markdown",
   "id": "d0783da0",
   "metadata": {},
   "source": [
    "- You should now note that the index column is in some arbitrary order (hence randomly chosen split).\n",
    "- As you can see, some of the attributes are disproportionate to other other attributes (i.e `serum-insulin` has value `370` whilst `pedigree-function` seems to be far smaller).\n",
    "- To combat this, we can normalise (or standardise) our dataset."
   ]
  },
  {
   "cell_type": "markdown",
   "id": "bd84a939",
   "metadata": {},
   "source": [
    "## Decision Tree Classifier\n",
    "- Although trees typically use Gini as a split criterion, we will use the more familiar **entropy** for this subject.\n",
    "- We'll enforce a _\"max depth\"_ of 3, which controls how _\"deep\"_ or _\"big\"_ a tree can be. This is because we want to visualize the tree itself afterwards.\n",
    "- Finally, we'll also fix the random state to be `42`. This just means that whenever we re-run the code, we will get the same results. Why? The DT essentially uses a greedy algorithm (recall from Project 1) repeated a number of times using random selections of features and samples during training. \n",
    "\n",
    "We now fit a [decision tree classifier](http://scikit-learn.org/stable/modules/generated/sklearn.tree.DecisionTreeClassifier.html).  To make the tree simple and easy to visualise, we enforce a maximum depth of 3.   "
   ]
  },
  {
   "cell_type": "code",
   "execution_count": 6,
   "id": "7dcd73b3",
   "metadata": {
    "ExecuteTime": {
     "end_time": "2021-12-13T02:16:10.827266Z",
     "start_time": "2021-12-13T02:16:10.785017Z"
    }
   },
   "outputs": [
    {
     "data": {
      "text/plain": [
       "DecisionTreeClassifier(criterion='entropy', max_depth=3, random_state=42)"
      ]
     },
     "execution_count": 6,
     "metadata": {},
     "output_type": "execute_result"
    }
   ],
   "source": [
    "from sklearn.tree import DecisionTreeClassifier\n",
    "\n",
    "# initialise the tree\n",
    "dt = DecisionTreeClassifier(criterion=\"entropy\", # the criterion to split - we will use entropy\n",
    "                            random_state=42, # the random state to run this at\n",
    "                            max_depth=3 # the depth of the tree\n",
    ")\n",
    "\n",
    "# fit it to the training dataset\n",
    "dt.fit(X_train, y_train)"
   ]
  },
  {
   "cell_type": "code",
   "execution_count": 7,
   "id": "35edff6c",
   "metadata": {
    "ExecuteTime": {
     "end_time": "2021-12-13T02:16:10.832717Z",
     "start_time": "2021-12-13T02:16:10.828230Z"
    }
   },
   "outputs": [
    {
     "data": {
      "text/plain": [
       "array([0, 0, 0, 0, 0, 0, 0, 0, 1, 1, 0, 1, 1, 0, 0, 0, 0, 0, 1, 1, 0, 0,\n",
       "       0, 0, 1, 1, 0, 0, 0, 0, 1, 1, 1, 1, 0, 1, 1, 0, 0, 1, 0, 0, 0, 0,\n",
       "       0, 1, 0, 0, 0, 1, 0, 1, 1, 0, 0, 0, 1, 0, 0, 1, 1, 0, 0, 0, 0, 1,\n",
       "       0, 1, 0, 1, 1, 0, 0, 0, 0, 0, 0, 0, 0, 0, 1, 0, 0, 1, 0, 1, 1, 0,\n",
       "       0, 0, 0, 0, 0, 0, 0, 1, 0, 0, 1, 0, 1, 0, 0, 1, 1, 0, 0, 1, 0, 0,\n",
       "       0, 1, 0, 1, 0, 0, 1, 0, 0, 0, 0, 0, 0, 0, 1, 0, 0, 1, 1, 1, 1, 1,\n",
       "       0, 0, 1, 0, 0, 1, 1, 0, 0, 0, 0, 1, 0, 0, 0, 0, 0, 1, 0, 0, 1, 0])"
      ]
     },
     "execution_count": 7,
     "metadata": {},
     "output_type": "execute_result"
    }
   ],
   "source": [
    "# assign y_pred to the predictions of the DT given the X_test\n",
    "y_pred = dt.predict(X_test)\n",
    "y_pred"
   ]
  },
  {
   "cell_type": "markdown",
   "id": "5c804fa1",
   "metadata": {},
   "source": [
    "We can now evaluate our model using `accuracy_score`, which requires the true class labels and the predicted class labels. This is literally just the percentage of correct divided by total number of predictions."
   ]
  },
  {
   "cell_type": "code",
   "execution_count": 8,
   "id": "15df98a0",
   "metadata": {
    "ExecuteTime": {
     "end_time": "2021-12-13T02:16:10.837249Z",
     "start_time": "2021-12-13T02:16:10.833685Z"
    }
   },
   "outputs": [
    {
     "data": {
      "text/plain": [
       "0.7662337662337663"
      ]
     },
     "execution_count": 8,
     "metadata": {},
     "output_type": "execute_result"
    }
   ],
   "source": [
    "from sklearn.metrics import accuracy_score\n",
    "\n",
    "accuracy_score(y_test, y_pred)"
   ]
  },
  {
   "cell_type": "markdown",
   "id": "762175e8",
   "metadata": {},
   "source": [
    "## (Advanced Optional) Visualizing a DT\n",
    "If you are using Anaconda:\n",
    "- `conda install -c conda-forge python-graphviz`\n",
    "\n",
    "If you are on JupyterHub or `bash` environment:\n",
    "- `pip3 install graphviz`\n",
    "- `sudo apt-get install graphviz`"
   ]
  },
  {
   "cell_type": "code",
   "execution_count": 9,
   "id": "23bb5f94",
   "metadata": {
    "ExecuteTime": {
     "end_time": "2021-12-13T02:16:10.896804Z",
     "start_time": "2021-12-13T02:16:10.838191Z"
    }
   },
   "outputs": [
    {
     "data": {
      "image/svg+xml": [
       "<?xml version=\"1.0\" encoding=\"UTF-8\" standalone=\"no\"?>\n",
       "<!DOCTYPE svg PUBLIC \"-//W3C//DTD SVG 1.1//EN\"\n",
       " \"http://www.w3.org/Graphics/SVG/1.1/DTD/svg11.dtd\">\n",
       "<!-- Generated by graphviz version 2.43.0 (0)\n",
       " -->\n",
       "<!-- Title: Tree Pages: 1 -->\n",
       "<svg width=\"1182pt\" height=\"373pt\"\n",
       " viewBox=\"0.00 0.00 1182.00 373.00\" xmlns=\"http://www.w3.org/2000/svg\" xmlns:xlink=\"http://www.w3.org/1999/xlink\">\n",
       "<g id=\"graph0\" class=\"graph\" transform=\"scale(1 1) rotate(0) translate(4 369)\">\n",
       "<title>Tree</title>\n",
       "<polygon fill=\"white\" stroke=\"transparent\" points=\"-4,4 -4,-369 1178,-369 1178,4 -4,4\"/>\n",
       "<!-- 0 -->\n",
       "<g id=\"node1\" class=\"node\">\n",
       "<title>0</title>\n",
       "<path fill=\"#f3c4a2\" stroke=\"black\" d=\"M649,-365C649,-365 524,-365 524,-365 518,-365 512,-359 512,-353 512,-353 512,-309 512,-309 512,-303 518,-297 524,-297 524,-297 649,-297 649,-297 655,-297 661,-303 661,-309 661,-309 661,-353 661,-353 661,-359 655,-365 649,-365\"/>\n",
       "<text text-anchor=\"middle\" x=\"586.5\" y=\"-349.8\" font-family=\"Helvetica,sans-Serif\" font-size=\"14.00\">plasma &lt;= 127.5</text>\n",
       "<text text-anchor=\"middle\" x=\"586.5\" y=\"-334.8\" font-family=\"Helvetica,sans-Serif\" font-size=\"14.00\">entropy = 0.931</text>\n",
       "<text text-anchor=\"middle\" x=\"586.5\" y=\"-319.8\" font-family=\"Helvetica,sans-Serif\" font-size=\"14.00\">samples = 614</text>\n",
       "<text text-anchor=\"middle\" x=\"586.5\" y=\"-304.8\" font-family=\"Helvetica,sans-Serif\" font-size=\"14.00\">value = [401, 213]</text>\n",
       "</g>\n",
       "<!-- 1 -->\n",
       "<g id=\"node2\" class=\"node\">\n",
       "<title>1</title>\n",
       "<path fill=\"#eb9f69\" stroke=\"black\" d=\"M533.5,-261C533.5,-261 417.5,-261 417.5,-261 411.5,-261 405.5,-255 405.5,-249 405.5,-249 405.5,-205 405.5,-205 405.5,-199 411.5,-193 417.5,-193 417.5,-193 533.5,-193 533.5,-193 539.5,-193 545.5,-199 545.5,-205 545.5,-205 545.5,-249 545.5,-249 545.5,-255 539.5,-261 533.5,-261\"/>\n",
       "<text text-anchor=\"middle\" x=\"475.5\" y=\"-245.8\" font-family=\"Helvetica,sans-Serif\" font-size=\"14.00\">age &lt;= 28.5</text>\n",
       "<text text-anchor=\"middle\" x=\"475.5\" y=\"-230.8\" font-family=\"Helvetica,sans-Serif\" font-size=\"14.00\">entropy = 0.712</text>\n",
       "<text text-anchor=\"middle\" x=\"475.5\" y=\"-215.8\" font-family=\"Helvetica,sans-Serif\" font-size=\"14.00\">samples = 390</text>\n",
       "<text text-anchor=\"middle\" x=\"475.5\" y=\"-200.8\" font-family=\"Helvetica,sans-Serif\" font-size=\"14.00\">value = [314, 76]</text>\n",
       "</g>\n",
       "<!-- 0&#45;&gt;1 -->\n",
       "<g id=\"edge1\" class=\"edge\">\n",
       "<title>0&#45;&gt;1</title>\n",
       "<path fill=\"none\" stroke=\"black\" d=\"M550.46,-296.88C540.48,-287.71 529.53,-277.65 519.16,-268.12\"/>\n",
       "<polygon fill=\"black\" stroke=\"black\" points=\"521.47,-265.49 511.74,-261.3 516.73,-270.64 521.47,-265.49\"/>\n",
       "<text text-anchor=\"middle\" x=\"512.79\" y=\"-282.58\" font-family=\"Helvetica,sans-Serif\" font-size=\"14.00\">True</text>\n",
       "</g>\n",
       "<!-- 8 -->\n",
       "<g id=\"node9\" class=\"node\">\n",
       "<title>8</title>\n",
       "<path fill=\"#b7dbf6\" stroke=\"black\" d=\"M756.5,-261C756.5,-261 640.5,-261 640.5,-261 634.5,-261 628.5,-255 628.5,-249 628.5,-249 628.5,-205 628.5,-205 628.5,-199 634.5,-193 640.5,-193 640.5,-193 756.5,-193 756.5,-193 762.5,-193 768.5,-199 768.5,-205 768.5,-205 768.5,-249 768.5,-249 768.5,-255 762.5,-261 756.5,-261\"/>\n",
       "<text text-anchor=\"middle\" x=\"698.5\" y=\"-245.8\" font-family=\"Helvetica,sans-Serif\" font-size=\"14.00\">BMI &lt;= 29.95</text>\n",
       "<text text-anchor=\"middle\" x=\"698.5\" y=\"-230.8\" font-family=\"Helvetica,sans-Serif\" font-size=\"14.00\">entropy = 0.964</text>\n",
       "<text text-anchor=\"middle\" x=\"698.5\" y=\"-215.8\" font-family=\"Helvetica,sans-Serif\" font-size=\"14.00\">samples = 224</text>\n",
       "<text text-anchor=\"middle\" x=\"698.5\" y=\"-200.8\" font-family=\"Helvetica,sans-Serif\" font-size=\"14.00\">value = [87, 137]</text>\n",
       "</g>\n",
       "<!-- 0&#45;&gt;8 -->\n",
       "<g id=\"edge8\" class=\"edge\">\n",
       "<title>0&#45;&gt;8</title>\n",
       "<path fill=\"none\" stroke=\"black\" d=\"M622.86,-296.88C632.94,-287.71 643.98,-277.65 654.44,-268.12\"/>\n",
       "<polygon fill=\"black\" stroke=\"black\" points=\"656.9,-270.62 661.94,-261.3 652.19,-265.44 656.9,-270.62\"/>\n",
       "<text text-anchor=\"middle\" x=\"660.77\" y=\"-282.57\" font-family=\"Helvetica,sans-Serif\" font-size=\"14.00\">False</text>\n",
       "</g>\n",
       "<!-- 2 -->\n",
       "<g id=\"node3\" class=\"node\">\n",
       "<title>2</title>\n",
       "<path fill=\"#e78c49\" stroke=\"black\" d=\"M272.5,-157C272.5,-157 156.5,-157 156.5,-157 150.5,-157 144.5,-151 144.5,-145 144.5,-145 144.5,-101 144.5,-101 144.5,-95 150.5,-89 156.5,-89 156.5,-89 272.5,-89 272.5,-89 278.5,-89 284.5,-95 284.5,-101 284.5,-101 284.5,-145 284.5,-145 284.5,-151 278.5,-157 272.5,-157\"/>\n",
       "<text text-anchor=\"middle\" x=\"214.5\" y=\"-141.8\" font-family=\"Helvetica,sans-Serif\" font-size=\"14.00\">BMI &lt;= 30.95</text>\n",
       "<text text-anchor=\"middle\" x=\"214.5\" y=\"-126.8\" font-family=\"Helvetica,sans-Serif\" font-size=\"14.00\">entropy = 0.391</text>\n",
       "<text text-anchor=\"middle\" x=\"214.5\" y=\"-111.8\" font-family=\"Helvetica,sans-Serif\" font-size=\"14.00\">samples = 221</text>\n",
       "<text text-anchor=\"middle\" x=\"214.5\" y=\"-96.8\" font-family=\"Helvetica,sans-Serif\" font-size=\"14.00\">value = [204, 17]</text>\n",
       "</g>\n",
       "<!-- 1&#45;&gt;2 -->\n",
       "<g id=\"edge2\" class=\"edge\">\n",
       "<title>1&#45;&gt;2</title>\n",
       "<path fill=\"none\" stroke=\"black\" d=\"M405.21,-198.53C370.98,-185.15 329.66,-169.01 294.25,-155.17\"/>\n",
       "<polygon fill=\"black\" stroke=\"black\" points=\"295.5,-151.9 284.91,-151.52 292.95,-158.42 295.5,-151.9\"/>\n",
       "</g>\n",
       "<!-- 5 -->\n",
       "<g id=\"node6\" class=\"node\">\n",
       "<title>5</title>\n",
       "<path fill=\"#f3c5a3\" stroke=\"black\" d=\"M533.5,-157C533.5,-157 417.5,-157 417.5,-157 411.5,-157 405.5,-151 405.5,-145 405.5,-145 405.5,-101 405.5,-101 405.5,-95 411.5,-89 417.5,-89 417.5,-89 533.5,-89 533.5,-89 539.5,-89 545.5,-95 545.5,-101 545.5,-101 545.5,-145 545.5,-145 545.5,-151 539.5,-157 533.5,-157\"/>\n",
       "<text text-anchor=\"middle\" x=\"475.5\" y=\"-141.8\" font-family=\"Helvetica,sans-Serif\" font-size=\"14.00\">BMI &lt;= 26.35</text>\n",
       "<text text-anchor=\"middle\" x=\"475.5\" y=\"-126.8\" font-family=\"Helvetica,sans-Serif\" font-size=\"14.00\">entropy = 0.933</text>\n",
       "<text text-anchor=\"middle\" x=\"475.5\" y=\"-111.8\" font-family=\"Helvetica,sans-Serif\" font-size=\"14.00\">samples = 169</text>\n",
       "<text text-anchor=\"middle\" x=\"475.5\" y=\"-96.8\" font-family=\"Helvetica,sans-Serif\" font-size=\"14.00\">value = [110, 59]</text>\n",
       "</g>\n",
       "<!-- 1&#45;&gt;5 -->\n",
       "<g id=\"edge5\" class=\"edge\">\n",
       "<title>1&#45;&gt;5</title>\n",
       "<path fill=\"none\" stroke=\"black\" d=\"M475.5,-192.88C475.5,-184.78 475.5,-175.98 475.5,-167.47\"/>\n",
       "<polygon fill=\"black\" stroke=\"black\" points=\"479,-167.3 475.5,-157.3 472,-167.3 479,-167.3\"/>\n",
       "</g>\n",
       "<!-- 3 -->\n",
       "<g id=\"node4\" class=\"node\">\n",
       "<title>3</title>\n",
       "<path fill=\"#e5823b\" stroke=\"black\" d=\"M119,-53C119,-53 12,-53 12,-53 6,-53 0,-47 0,-41 0,-41 0,-12 0,-12 0,-6 6,0 12,0 12,0 119,0 119,0 125,0 131,-6 131,-12 131,-12 131,-41 131,-41 131,-47 125,-53 119,-53\"/>\n",
       "<text text-anchor=\"middle\" x=\"65.5\" y=\"-37.8\" font-family=\"Helvetica,sans-Serif\" font-size=\"14.00\">entropy = 0.068</text>\n",
       "<text text-anchor=\"middle\" x=\"65.5\" y=\"-22.8\" font-family=\"Helvetica,sans-Serif\" font-size=\"14.00\">samples = 124</text>\n",
       "<text text-anchor=\"middle\" x=\"65.5\" y=\"-7.8\" font-family=\"Helvetica,sans-Serif\" font-size=\"14.00\">value = [123, 1]</text>\n",
       "</g>\n",
       "<!-- 2&#45;&gt;3 -->\n",
       "<g id=\"edge3\" class=\"edge\">\n",
       "<title>2&#45;&gt;3</title>\n",
       "<path fill=\"none\" stroke=\"black\" d=\"M162.39,-88.95C146.95,-79.16 130.11,-68.48 114.85,-58.8\"/>\n",
       "<polygon fill=\"black\" stroke=\"black\" points=\"116.4,-55.64 106.08,-53.24 112.65,-61.55 116.4,-55.64\"/>\n",
       "</g>\n",
       "<!-- 4 -->\n",
       "<g id=\"node5\" class=\"node\">\n",
       "<title>4</title>\n",
       "<path fill=\"#ea9a60\" stroke=\"black\" d=\"M268,-53C268,-53 161,-53 161,-53 155,-53 149,-47 149,-41 149,-41 149,-12 149,-12 149,-6 155,0 161,0 161,0 268,0 268,0 274,0 280,-6 280,-12 280,-12 280,-41 280,-41 280,-47 274,-53 268,-53\"/>\n",
       "<text text-anchor=\"middle\" x=\"214.5\" y=\"-37.8\" font-family=\"Helvetica,sans-Serif\" font-size=\"14.00\">entropy = 0.646</text>\n",
       "<text text-anchor=\"middle\" x=\"214.5\" y=\"-22.8\" font-family=\"Helvetica,sans-Serif\" font-size=\"14.00\">samples = 97</text>\n",
       "<text text-anchor=\"middle\" x=\"214.5\" y=\"-7.8\" font-family=\"Helvetica,sans-Serif\" font-size=\"14.00\">value = [81, 16]</text>\n",
       "</g>\n",
       "<!-- 2&#45;&gt;4 -->\n",
       "<g id=\"edge4\" class=\"edge\">\n",
       "<title>2&#45;&gt;4</title>\n",
       "<path fill=\"none\" stroke=\"black\" d=\"M214.5,-88.95C214.5,-80.72 214.5,-71.85 214.5,-63.48\"/>\n",
       "<polygon fill=\"black\" stroke=\"black\" points=\"218,-63.24 214.5,-53.24 211,-63.24 218,-63.24\"/>\n",
       "</g>\n",
       "<!-- 6 -->\n",
       "<g id=\"node7\" class=\"node\">\n",
       "<title>6</title>\n",
       "<path fill=\"#e6853f\" stroke=\"black\" d=\"M417,-53C417,-53 310,-53 310,-53 304,-53 298,-47 298,-41 298,-41 298,-12 298,-12 298,-6 304,0 310,0 310,0 417,0 417,0 423,0 429,-6 429,-12 429,-12 429,-41 429,-41 429,-47 423,-53 417,-53\"/>\n",
       "<text text-anchor=\"middle\" x=\"363.5\" y=\"-37.8\" font-family=\"Helvetica,sans-Serif\" font-size=\"14.00\">entropy = 0.191</text>\n",
       "<text text-anchor=\"middle\" x=\"363.5\" y=\"-22.8\" font-family=\"Helvetica,sans-Serif\" font-size=\"14.00\">samples = 34</text>\n",
       "<text text-anchor=\"middle\" x=\"363.5\" y=\"-7.8\" font-family=\"Helvetica,sans-Serif\" font-size=\"14.00\">value = [33, 1]</text>\n",
       "</g>\n",
       "<!-- 5&#45;&gt;6 -->\n",
       "<g id=\"edge6\" class=\"edge\">\n",
       "<title>5&#45;&gt;6</title>\n",
       "<path fill=\"none\" stroke=\"black\" d=\"M436.33,-88.95C425.16,-79.53 413.01,-69.27 401.89,-59.89\"/>\n",
       "<polygon fill=\"black\" stroke=\"black\" points=\"403.9,-57.01 394,-53.24 399.39,-62.36 403.9,-57.01\"/>\n",
       "</g>\n",
       "<!-- 7 -->\n",
       "<g id=\"node8\" class=\"node\">\n",
       "<title>7</title>\n",
       "<path fill=\"#f9e0ce\" stroke=\"black\" d=\"M566,-53C566,-53 459,-53 459,-53 453,-53 447,-47 447,-41 447,-41 447,-12 447,-12 447,-6 453,0 459,0 459,0 566,0 566,0 572,0 578,-6 578,-12 578,-12 578,-41 578,-41 578,-47 572,-53 566,-53\"/>\n",
       "<text text-anchor=\"middle\" x=\"512.5\" y=\"-37.8\" font-family=\"Helvetica,sans-Serif\" font-size=\"14.00\">entropy = 0.986</text>\n",
       "<text text-anchor=\"middle\" x=\"512.5\" y=\"-22.8\" font-family=\"Helvetica,sans-Serif\" font-size=\"14.00\">samples = 135</text>\n",
       "<text text-anchor=\"middle\" x=\"512.5\" y=\"-7.8\" font-family=\"Helvetica,sans-Serif\" font-size=\"14.00\">value = [77, 58]</text>\n",
       "</g>\n",
       "<!-- 5&#45;&gt;7 -->\n",
       "<g id=\"edge7\" class=\"edge\">\n",
       "<title>5&#45;&gt;7</title>\n",
       "<path fill=\"none\" stroke=\"black\" d=\"M488.44,-88.95C491.77,-80.44 495.37,-71.26 498.74,-62.65\"/>\n",
       "<polygon fill=\"black\" stroke=\"black\" points=\"502.04,-63.82 502.42,-53.24 495.52,-61.27 502.04,-63.82\"/>\n",
       "</g>\n",
       "<!-- 9 -->\n",
       "<g id=\"node10\" class=\"node\">\n",
       "<title>9</title>\n",
       "<path fill=\"#f1ba93\" stroke=\"black\" d=\"M756.5,-157C756.5,-157 640.5,-157 640.5,-157 634.5,-157 628.5,-151 628.5,-145 628.5,-145 628.5,-101 628.5,-101 628.5,-95 634.5,-89 640.5,-89 640.5,-89 756.5,-89 756.5,-89 762.5,-89 768.5,-95 768.5,-101 768.5,-101 768.5,-145 768.5,-145 768.5,-151 762.5,-157 756.5,-157\"/>\n",
       "<text text-anchor=\"middle\" x=\"698.5\" y=\"-141.8\" font-family=\"Helvetica,sans-Serif\" font-size=\"14.00\">plasma &lt;= 145.5</text>\n",
       "<text text-anchor=\"middle\" x=\"698.5\" y=\"-126.8\" font-family=\"Helvetica,sans-Serif\" font-size=\"14.00\">entropy = 0.895</text>\n",
       "<text text-anchor=\"middle\" x=\"698.5\" y=\"-111.8\" font-family=\"Helvetica,sans-Serif\" font-size=\"14.00\">samples = 61</text>\n",
       "<text text-anchor=\"middle\" x=\"698.5\" y=\"-96.8\" font-family=\"Helvetica,sans-Serif\" font-size=\"14.00\">value = [42, 19]</text>\n",
       "</g>\n",
       "<!-- 8&#45;&gt;9 -->\n",
       "<g id=\"edge9\" class=\"edge\">\n",
       "<title>8&#45;&gt;9</title>\n",
       "<path fill=\"none\" stroke=\"black\" d=\"M698.5,-192.88C698.5,-184.78 698.5,-175.98 698.5,-167.47\"/>\n",
       "<polygon fill=\"black\" stroke=\"black\" points=\"702,-167.3 698.5,-157.3 695,-167.3 702,-167.3\"/>\n",
       "</g>\n",
       "<!-- 12 -->\n",
       "<g id=\"node13\" class=\"node\">\n",
       "<title>12</title>\n",
       "<path fill=\"#85c2ef\" stroke=\"black\" d=\"M1017.5,-157C1017.5,-157 901.5,-157 901.5,-157 895.5,-157 889.5,-151 889.5,-145 889.5,-145 889.5,-101 889.5,-101 889.5,-95 895.5,-89 901.5,-89 901.5,-89 1017.5,-89 1017.5,-89 1023.5,-89 1029.5,-95 1029.5,-101 1029.5,-101 1029.5,-145 1029.5,-145 1029.5,-151 1023.5,-157 1017.5,-157\"/>\n",
       "<text text-anchor=\"middle\" x=\"959.5\" y=\"-141.8\" font-family=\"Helvetica,sans-Serif\" font-size=\"14.00\">plasma &lt;= 165.5</text>\n",
       "<text text-anchor=\"middle\" x=\"959.5\" y=\"-126.8\" font-family=\"Helvetica,sans-Serif\" font-size=\"14.00\">entropy = 0.85</text>\n",
       "<text text-anchor=\"middle\" x=\"959.5\" y=\"-111.8\" font-family=\"Helvetica,sans-Serif\" font-size=\"14.00\">samples = 163</text>\n",
       "<text text-anchor=\"middle\" x=\"959.5\" y=\"-96.8\" font-family=\"Helvetica,sans-Serif\" font-size=\"14.00\">value = [45, 118]</text>\n",
       "</g>\n",
       "<!-- 8&#45;&gt;12 -->\n",
       "<g id=\"edge12\" class=\"edge\">\n",
       "<title>8&#45;&gt;12</title>\n",
       "<path fill=\"none\" stroke=\"black\" d=\"M768.79,-198.53C803.02,-185.15 844.34,-169.01 879.75,-155.17\"/>\n",
       "<polygon fill=\"black\" stroke=\"black\" points=\"881.05,-158.42 889.09,-151.52 878.5,-151.9 881.05,-158.42\"/>\n",
       "</g>\n",
       "<!-- 10 -->\n",
       "<g id=\"node11\" class=\"node\">\n",
       "<title>10</title>\n",
       "<path fill=\"#e99254\" stroke=\"black\" d=\"M715,-53C715,-53 608,-53 608,-53 602,-53 596,-47 596,-41 596,-41 596,-12 596,-12 596,-6 602,0 608,0 608,0 715,0 715,0 721,0 727,-6 727,-12 727,-12 727,-41 727,-41 727,-47 721,-53 715,-53\"/>\n",
       "<text text-anchor=\"middle\" x=\"661.5\" y=\"-37.8\" font-family=\"Helvetica,sans-Serif\" font-size=\"14.00\">entropy = 0.533</text>\n",
       "<text text-anchor=\"middle\" x=\"661.5\" y=\"-22.8\" font-family=\"Helvetica,sans-Serif\" font-size=\"14.00\">samples = 33</text>\n",
       "<text text-anchor=\"middle\" x=\"661.5\" y=\"-7.8\" font-family=\"Helvetica,sans-Serif\" font-size=\"14.00\">value = [29, 4]</text>\n",
       "</g>\n",
       "<!-- 9&#45;&gt;10 -->\n",
       "<g id=\"edge10\" class=\"edge\">\n",
       "<title>9&#45;&gt;10</title>\n",
       "<path fill=\"none\" stroke=\"black\" d=\"M685.56,-88.95C682.23,-80.44 678.63,-71.26 675.26,-62.65\"/>\n",
       "<polygon fill=\"black\" stroke=\"black\" points=\"678.48,-61.27 671.58,-53.24 671.96,-63.82 678.48,-61.27\"/>\n",
       "</g>\n",
       "<!-- 11 -->\n",
       "<g id=\"node12\" class=\"node\">\n",
       "<title>11</title>\n",
       "<path fill=\"#e5f2fc\" stroke=\"black\" d=\"M864,-53C864,-53 757,-53 757,-53 751,-53 745,-47 745,-41 745,-41 745,-12 745,-12 745,-6 751,0 757,0 757,0 864,0 864,0 870,0 876,-6 876,-12 876,-12 876,-41 876,-41 876,-47 870,-53 864,-53\"/>\n",
       "<text text-anchor=\"middle\" x=\"810.5\" y=\"-37.8\" font-family=\"Helvetica,sans-Serif\" font-size=\"14.00\">entropy = 0.996</text>\n",
       "<text text-anchor=\"middle\" x=\"810.5\" y=\"-22.8\" font-family=\"Helvetica,sans-Serif\" font-size=\"14.00\">samples = 28</text>\n",
       "<text text-anchor=\"middle\" x=\"810.5\" y=\"-7.8\" font-family=\"Helvetica,sans-Serif\" font-size=\"14.00\">value = [13, 15]</text>\n",
       "</g>\n",
       "<!-- 9&#45;&gt;11 -->\n",
       "<g id=\"edge11\" class=\"edge\">\n",
       "<title>9&#45;&gt;11</title>\n",
       "<path fill=\"none\" stroke=\"black\" d=\"M737.67,-88.95C748.84,-79.53 760.99,-69.27 772.11,-59.89\"/>\n",
       "<polygon fill=\"black\" stroke=\"black\" points=\"774.61,-62.36 780,-53.24 770.1,-57.01 774.61,-62.36\"/>\n",
       "</g>\n",
       "<!-- 13 -->\n",
       "<g id=\"node14\" class=\"node\">\n",
       "<title>13</title>\n",
       "<path fill=\"#add7f4\" stroke=\"black\" d=\"M1013,-53C1013,-53 906,-53 906,-53 900,-53 894,-47 894,-41 894,-41 894,-12 894,-12 894,-6 900,0 906,0 906,0 1013,0 1013,0 1019,0 1025,-6 1025,-12 1025,-12 1025,-41 1025,-41 1025,-47 1019,-53 1013,-53\"/>\n",
       "<text text-anchor=\"middle\" x=\"959.5\" y=\"-37.8\" font-family=\"Helvetica,sans-Serif\" font-size=\"14.00\">entropy = 0.951</text>\n",
       "<text text-anchor=\"middle\" x=\"959.5\" y=\"-22.8\" font-family=\"Helvetica,sans-Serif\" font-size=\"14.00\">samples = 108</text>\n",
       "<text text-anchor=\"middle\" x=\"959.5\" y=\"-7.8\" font-family=\"Helvetica,sans-Serif\" font-size=\"14.00\">value = [40, 68]</text>\n",
       "</g>\n",
       "<!-- 12&#45;&gt;13 -->\n",
       "<g id=\"edge13\" class=\"edge\">\n",
       "<title>12&#45;&gt;13</title>\n",
       "<path fill=\"none\" stroke=\"black\" d=\"M959.5,-88.95C959.5,-80.72 959.5,-71.85 959.5,-63.48\"/>\n",
       "<polygon fill=\"black\" stroke=\"black\" points=\"963,-63.24 959.5,-53.24 956,-63.24 963,-63.24\"/>\n",
       "</g>\n",
       "<!-- 14 -->\n",
       "<g id=\"node15\" class=\"node\">\n",
       "<title>14</title>\n",
       "<path fill=\"#4da7e8\" stroke=\"black\" d=\"M1162,-53C1162,-53 1055,-53 1055,-53 1049,-53 1043,-47 1043,-41 1043,-41 1043,-12 1043,-12 1043,-6 1049,0 1055,0 1055,0 1162,0 1162,0 1168,0 1174,-6 1174,-12 1174,-12 1174,-41 1174,-41 1174,-47 1168,-53 1162,-53\"/>\n",
       "<text text-anchor=\"middle\" x=\"1108.5\" y=\"-37.8\" font-family=\"Helvetica,sans-Serif\" font-size=\"14.00\">entropy = 0.439</text>\n",
       "<text text-anchor=\"middle\" x=\"1108.5\" y=\"-22.8\" font-family=\"Helvetica,sans-Serif\" font-size=\"14.00\">samples = 55</text>\n",
       "<text text-anchor=\"middle\" x=\"1108.5\" y=\"-7.8\" font-family=\"Helvetica,sans-Serif\" font-size=\"14.00\">value = [5, 50]</text>\n",
       "</g>\n",
       "<!-- 12&#45;&gt;14 -->\n",
       "<g id=\"edge14\" class=\"edge\">\n",
       "<title>12&#45;&gt;14</title>\n",
       "<path fill=\"none\" stroke=\"black\" d=\"M1011.61,-88.95C1027.05,-79.16 1043.89,-68.48 1059.15,-58.8\"/>\n",
       "<polygon fill=\"black\" stroke=\"black\" points=\"1061.35,-61.55 1067.92,-53.24 1057.6,-55.64 1061.35,-61.55\"/>\n",
       "</g>\n",
       "</g>\n",
       "</svg>\n"
      ],
      "text/plain": [
       "<graphviz.files.Source at 0x7ff36b3f3f10>"
      ]
     },
     "execution_count": 9,
     "metadata": {},
     "output_type": "execute_result"
    }
   ],
   "source": [
    "import graphviz\n",
    "from sklearn.tree import export_graphviz\n",
    "\n",
    "export_graphviz(dt, # the model we trained\n",
    "                out_file=\"mytree.dot\", # name of the output file - has to be a .dot file\n",
    "                feature_names=X.columns, # the names of our features\n",
    "                filled=True, # formatting: do we want to fill the features with colour\n",
    "                rounded=True # formatting: do we want rounded edges\n",
    "               )\n",
    "\n",
    "# then, open the file using Python\n",
    "with open(\"./mytree.dot\") as f:\n",
    "    dot_graph = f.read()\n",
    "\n",
    "# visualize using graphviz, you won't be able to \"open\" it using normal methods\n",
    "graphviz.Source(dot_graph)"
   ]
  },
  {
   "cell_type": "markdown",
   "id": "61078a4c",
   "metadata": {},
   "source": [
    "To interpret the output, visit this thread over here: https://stackoverflow.com/questions/47503575/what-do-the-values-that-graphviz-renders-inside-each-node-of-a-decision-tree-m"
   ]
  },
  {
   "cell_type": "markdown",
   "id": "28208591",
   "metadata": {},
   "source": [
    "## Class Discussion Classification Exercise 2\n",
    "Here's a scatter plot that shows varying values of the DT given a higher percentage of training data size.\n",
    "- What seems to be the best size of training data?\n",
    "- Is it a good idea to have a training set that big?"
   ]
  },
  {
   "cell_type": "code",
   "execution_count": 10,
   "id": "d1c9d70a",
   "metadata": {
    "ExecuteTime": {
     "end_time": "2021-12-13T02:16:11.212767Z",
     "start_time": "2021-12-13T02:16:10.900056Z"
    }
   },
   "outputs": [
    {
     "data": {
      "image/png": "[encoded data removed]",
      "text/plain": [
       "<Figure size 432x288 with 1 Axes>"
      ]
     },
     "metadata": {
      "needs_background": "light"
     },
     "output_type": "display_data"
    }
   ],
   "source": [
    "import matplotlib.pyplot as plt\n",
    "\n",
    "# create split sizes from 1 to 100 in intervals of 5\n",
    "split_sizes = range(1, 101, 5)\n",
    "\n",
    "# initialise a dictionary of results\n",
    "results = {}\n",
    "\n",
    "for split in split_sizes:\n",
    "    # train test split with the given split size\n",
    "    X_train, X_test, y_train, y_test = train_test_split(X, y, train_size = split/100, \n",
    "                                      test_size=(1 - split/100), random_state=42)\n",
    "    \n",
    "    # fit the model\n",
    "    dt.fit(X_train, y_train)\n",
    "    \n",
    "    # predict\n",
    "    y_pred = dt.predict(X_test)\n",
    "    \n",
    "    # assign the accuracy to the dictionary\n",
    "    results[split] = accuracy_score(y_test, y_pred)\n",
    "    \n",
    "# plot the split sizes vs the dictionary of results\n",
    "plt.plot(split_sizes, results.values())\n",
    "\n",
    "plt.title(\"Decision Tree Training Accuracy\")\n",
    "plt.xlabel(\"Train Split % Size\")\n",
    "plt.ylabel(\"Accuracy\")\n",
    "\n",
    "plt.show()"
   ]
  },
  {
   "cell_type": "markdown",
   "id": "c813e7db",
   "metadata": {},
   "source": [
    "---"
   ]
  },
  {
   "cell_type": "markdown",
   "id": "e254d322",
   "metadata": {},
   "source": [
    "# Regression\n",
    "The dataset we will use is the Boston house prices that comes with `sklearn`. Please see the description below:"
   ]
  },
  {
   "cell_type": "code",
   "execution_count": 11,
   "id": "be9dd654",
   "metadata": {
    "ExecuteTime": {
     "end_time": "2021-12-13T02:16:11.240267Z",
     "start_time": "2021-12-13T02:16:11.213992Z"
    }
   },
   "outputs": [
    {
     "name": "stdout",
     "output_type": "stream",
     "text": [
      ".. _boston_dataset:\n",
      "\n",
      "Boston house prices dataset\n",
      "---------------------------\n",
      "\n",
      "**Data Set Characteristics:**  \n",
      "\n",
      "    :Number of Instances: 506 \n",
      "\n",
      "    :Number of Attributes: 13 numeric/categorical predictive. Median Value (attribute 14) is usually the target.\n",
      "\n",
      "    :Attribute Information (in order):\n",
      "        - CRIM     per capita crime rate by town\n",
      "        - ZN       proportion of residential land zoned for lots over 25,000 sq.ft.\n",
      "        - INDUS    proportion of non-retail business acres per town\n",
      "        - CHAS     Charles River dummy variable (= 1 if tract bounds river; 0 otherwise)\n",
      "        - NOX      nitric oxides concentration (parts per 10 million)\n",
      "        - RM       average number of rooms per dwelling\n",
      "        - AGE      proportion of owner-occupied units built prior to 1940\n",
      "        - DIS      weighted distances to five Boston employment centres\n",
      "        - RAD      index of accessibility to radial highways\n",
      "        - TAX      full-value property-tax rate per $10,000\n",
      "        - PTRATIO  pupil-teacher ratio by town\n",
      "        - B        1000(Bk - 0.63)^2 where Bk is the proportion of black people by town\n",
      "        - LSTAT    % lower status of the population\n",
      "        - MEDV     Median value of owner-occupied homes in $1000's\n",
      "\n",
      "    :Missing Attribute Values: None\n",
      "\n",
      "    :Creator: Harrison, D. and Rubinfeld, D.L.\n",
      "\n",
      "This is a copy of UCI ML housing dataset.\n",
      "https://archive.ics.uci.edu/ml/machine-learning-databases/housing/\n",
      "\n",
      "\n",
      "This dataset was taken from the StatLib library which is maintained at Carnegie Mellon University.\n",
      "\n",
      "The Boston house-price data of Harrison, D. and Rubinfeld, D.L. 'Hedonic\n",
      "prices and the demand for clean air', J. Environ. Economics & Management,\n",
      "vol.5, 81-102, 1978.   Used in Belsley, Kuh & Welsch, 'Regression diagnostics\n",
      "...', Wiley, 1980.   N.B. Various transformations are used in the table on\n",
      "pages 244-261 of the latter.\n",
      "\n",
      "The Boston house-price data has been used in many machine learning papers that address regression\n",
      "problems.   \n",
      "     \n",
      ".. topic:: References\n",
      "\n",
      "   - Belsley, Kuh & Welsch, 'Regression diagnostics: Identifying Influential Data and Sources of Collinearity', Wiley, 1980. 244-261.\n",
      "   - Quinlan,R. (1993). Combining Instance-Based and Model-Based Learning. In Proceedings on the Tenth International Conference of Machine Learning, 236-243, University of Massachusetts, Amherst. Morgan Kaufmann.\n",
      "\n"
     ]
    }
   ],
   "source": [
    "from sklearn import datasets \n",
    "\n",
    "data = datasets.load_boston()\n",
    "print(data.DESCR)"
   ]
  },
  {
   "cell_type": "markdown",
   "id": "30937934",
   "metadata": {},
   "source": [
    "For Linear Regression, you'll need the following:\n",
    "- an `X` matrix (aka Design Matrix) which are the values you use to *predict*;\n",
    "- and a `y` matrix (aka Predictions) which are the values you want to *predict*.\n",
    "\n",
    "For this workshop, we'll try and predict `MEDV` (Median value of owner-occupied homes in \\$1000's)"
   ]
  },
  {
   "cell_type": "code",
   "execution_count": 12,
   "id": "30ba24e9",
   "metadata": {
    "ExecuteTime": {
     "end_time": "2021-12-13T02:16:11.252777Z",
     "start_time": "2021-12-13T02:16:11.241383Z"
    }
   },
   "outputs": [
    {
     "data": {
      "text/html": [
       "<div>\n",
       "<style scoped>\n",
       "    .dataframe tbody tr th:only-of-type {\n",
       "        vertical-align: middle;\n",
       "    }\n",
       "\n",
       "    .dataframe tbody tr th {\n",
       "        vertical-align: top;\n",
       "    }\n",
       "\n",
       "    .dataframe thead th {\n",
       "        text-align: right;\n",
       "    }\n",
       "</style>\n",
       "<table border=\"1\" class=\"dataframe\">\n",
       "  <thead>\n",
       "    <tr style=\"text-align: right;\">\n",
       "      <th></th>\n",
       "      <th>CRIM</th>\n",
       "      <th>ZN</th>\n",
       "      <th>INDUS</th>\n",
       "      <th>CHAS</th>\n",
       "      <th>NOX</th>\n",
       "      <th>RM</th>\n",
       "      <th>AGE</th>\n",
       "      <th>DIS</th>\n",
       "      <th>RAD</th>\n",
       "      <th>TAX</th>\n",
       "      <th>PTRATIO</th>\n",
       "      <th>B</th>\n",
       "      <th>LSTAT</th>\n",
       "    </tr>\n",
       "  </thead>\n",
       "  <tbody>\n",
       "    <tr>\n",
       "      <th>0</th>\n",
       "      <td>0.00632</td>\n",
       "      <td>18.0</td>\n",
       "      <td>2.31</td>\n",
       "      <td>0.0</td>\n",
       "      <td>0.538</td>\n",
       "      <td>6.575</td>\n",
       "      <td>65.2</td>\n",
       "      <td>4.0900</td>\n",
       "      <td>1.0</td>\n",
       "      <td>296.0</td>\n",
       "      <td>15.3</td>\n",
       "      <td>396.90</td>\n",
       "      <td>4.98</td>\n",
       "    </tr>\n",
       "    <tr>\n",
       "      <th>1</th>\n",
       "      <td>0.02731</td>\n",
       "      <td>0.0</td>\n",
       "      <td>7.07</td>\n",
       "      <td>0.0</td>\n",
       "      <td>0.469</td>\n",
       "      <td>6.421</td>\n",
       "      <td>78.9</td>\n",
       "      <td>4.9671</td>\n",
       "      <td>2.0</td>\n",
       "      <td>242.0</td>\n",
       "      <td>17.8</td>\n",
       "      <td>396.90</td>\n",
       "      <td>9.14</td>\n",
       "    </tr>\n",
       "    <tr>\n",
       "      <th>2</th>\n",
       "      <td>0.02729</td>\n",
       "      <td>0.0</td>\n",
       "      <td>7.07</td>\n",
       "      <td>0.0</td>\n",
       "      <td>0.469</td>\n",
       "      <td>7.185</td>\n",
       "      <td>61.1</td>\n",
       "      <td>4.9671</td>\n",
       "      <td>2.0</td>\n",
       "      <td>242.0</td>\n",
       "      <td>17.8</td>\n",
       "      <td>392.83</td>\n",
       "      <td>4.03</td>\n",
       "    </tr>\n",
       "    <tr>\n",
       "      <th>3</th>\n",
       "      <td>0.03237</td>\n",
       "      <td>0.0</td>\n",
       "      <td>2.18</td>\n",
       "      <td>0.0</td>\n",
       "      <td>0.458</td>\n",
       "      <td>6.998</td>\n",
       "      <td>45.8</td>\n",
       "      <td>6.0622</td>\n",
       "      <td>3.0</td>\n",
       "      <td>222.0</td>\n",
       "      <td>18.7</td>\n",
       "      <td>394.63</td>\n",
       "      <td>2.94</td>\n",
       "    </tr>\n",
       "    <tr>\n",
       "      <th>4</th>\n",
       "      <td>0.06905</td>\n",
       "      <td>0.0</td>\n",
       "      <td>2.18</td>\n",
       "      <td>0.0</td>\n",
       "      <td>0.458</td>\n",
       "      <td>7.147</td>\n",
       "      <td>54.2</td>\n",
       "      <td>6.0622</td>\n",
       "      <td>3.0</td>\n",
       "      <td>222.0</td>\n",
       "      <td>18.7</td>\n",
       "      <td>396.90</td>\n",
       "      <td>5.33</td>\n",
       "    </tr>\n",
       "  </tbody>\n",
       "</table>\n",
       "</div>"
      ],
      "text/plain": [
       "      CRIM    ZN  INDUS  CHAS    NOX     RM   AGE     DIS  RAD    TAX  \\\n",
       "0  0.00632  18.0   2.31   0.0  0.538  6.575  65.2  4.0900  1.0  296.0   \n",
       "1  0.02731   0.0   7.07   0.0  0.469  6.421  78.9  4.9671  2.0  242.0   \n",
       "2  0.02729   0.0   7.07   0.0  0.469  7.185  61.1  4.9671  2.0  242.0   \n",
       "3  0.03237   0.0   2.18   0.0  0.458  6.998  45.8  6.0622  3.0  222.0   \n",
       "4  0.06905   0.0   2.18   0.0  0.458  7.147  54.2  6.0622  3.0  222.0   \n",
       "\n",
       "   PTRATIO       B  LSTAT  \n",
       "0     15.3  396.90   4.98  \n",
       "1     17.8  396.90   9.14  \n",
       "2     17.8  392.83   4.03  \n",
       "3     18.7  394.63   2.94  \n",
       "4     18.7  396.90   5.33  "
      ]
     },
     "execution_count": 12,
     "metadata": {},
     "output_type": "execute_result"
    }
   ],
   "source": [
    "# Design Matrix\n",
    "df = pd.DataFrame(data.data, columns=data.feature_names)\n",
    "df.head()"
   ]
  },
  {
   "cell_type": "code",
   "execution_count": 13,
   "id": "548903c1",
   "metadata": {
    "ExecuteTime": {
     "end_time": "2021-12-13T02:16:11.260758Z",
     "start_time": "2021-12-13T02:16:11.254547Z"
    }
   },
   "outputs": [
    {
     "data": {
      "text/html": [
       "<div>\n",
       "<style scoped>\n",
       "    .dataframe tbody tr th:only-of-type {\n",
       "        vertical-align: middle;\n",
       "    }\n",
       "\n",
       "    .dataframe tbody tr th {\n",
       "        vertical-align: top;\n",
       "    }\n",
       "\n",
       "    .dataframe thead th {\n",
       "        text-align: right;\n",
       "    }\n",
       "</style>\n",
       "<table border=\"1\" class=\"dataframe\">\n",
       "  <thead>\n",
       "    <tr style=\"text-align: right;\">\n",
       "      <th></th>\n",
       "      <th>MEDV</th>\n",
       "    </tr>\n",
       "  </thead>\n",
       "  <tbody>\n",
       "    <tr>\n",
       "      <th>0</th>\n",
       "      <td>24.0</td>\n",
       "    </tr>\n",
       "    <tr>\n",
       "      <th>1</th>\n",
       "      <td>21.6</td>\n",
       "    </tr>\n",
       "    <tr>\n",
       "      <th>2</th>\n",
       "      <td>34.7</td>\n",
       "    </tr>\n",
       "    <tr>\n",
       "      <th>3</th>\n",
       "      <td>33.4</td>\n",
       "    </tr>\n",
       "    <tr>\n",
       "      <th>4</th>\n",
       "      <td>36.2</td>\n",
       "    </tr>\n",
       "  </tbody>\n",
       "</table>\n",
       "</div>"
      ],
      "text/plain": [
       "   MEDV\n",
       "0  24.0\n",
       "1  21.6\n",
       "2  34.7\n",
       "3  33.4\n",
       "4  36.2"
      ]
     },
     "execution_count": 13,
     "metadata": {},
     "output_type": "execute_result"
    }
   ],
   "source": [
    "# Prediction (MEDV)\n",
    "y = pd.DataFrame(data.target, columns=[\"MEDV\"])\n",
    "y.head()"
   ]
  },
  {
   "cell_type": "markdown",
   "id": "2dee3bb1",
   "metadata": {},
   "source": [
    "## Example Linear Model\n",
    "- Let's fit a regression model using two variables `RM` (average number of rooms per dwelling) and `LSTAT` (% of lower status in the population) to predict `MEDV` (Median value of owner-occupied homes in \\$1000's)\n",
    "- `train_test_split` used to split our data into training and testing. We do this as we need to _evaluate_ our model on data it **has not seen before**.\n",
    "- `mean_squared_error` (MSE) is a very common metric for evaluating our models' performance. It calculates the average error$^2$ and is used to compare two different models (useless on its own).\n",
    "- `r2_score` (R$^2$) is another metric for evaluating the models performance (though it's actually not that good, adjusted R$^2$ is better).\n",
    "\n",
    "#### Evaulation Metrics\n",
    "- MSE: The lower the better, but only useful when _comparing_ models.\n",
    "- R$^2$: Between 0 and 1, where a higher R$^2$ indicates a better fit. It's not the best metric, but it will \"do the job\" for this intro."
   ]
  },
  {
   "cell_type": "code",
   "execution_count": 14,
   "id": "0171147e",
   "metadata": {
    "ExecuteTime": {
     "end_time": "2021-12-13T02:16:11.264259Z",
     "start_time": "2021-12-13T02:16:11.261920Z"
    }
   },
   "outputs": [],
   "source": [
    "from sklearn.linear_model import LinearRegression\n",
    "from sklearn.metrics import mean_squared_error, r2_score"
   ]
  },
  {
   "cell_type": "code",
   "execution_count": 15,
   "id": "829abaa4",
   "metadata": {
    "ExecuteTime": {
     "end_time": "2021-12-13T02:16:11.268252Z",
     "start_time": "2021-12-13T02:16:11.265192Z"
    }
   },
   "outputs": [],
   "source": [
    "# Create the design matrix using the two variables\n",
    "X = df[['RM', 'LSTAT']]"
   ]
  },
  {
   "cell_type": "code",
   "execution_count": 16,
   "id": "a2a7d9d8",
   "metadata": {
    "ExecuteTime": {
     "end_time": "2021-12-13T02:16:11.272754Z",
     "start_time": "2021-12-13T02:16:11.269293Z"
    }
   },
   "outputs": [],
   "source": [
    "# split it so that we have 80% data for training (finding the coefficients of our model)\n",
    "# and 20% for evaluating the model using MSE\n",
    "X_train, X_test, y_train, y_test = train_test_split(X.values, y.values, test_size=0.2, random_state=42)"
   ]
  },
  {
   "cell_type": "code",
   "execution_count": 17,
   "id": "aed50020",
   "metadata": {
    "ExecuteTime": {
     "end_time": "2021-12-13T02:16:11.277228Z",
     "start_time": "2021-12-13T02:16:11.273923Z"
    }
   },
   "outputs": [],
   "source": [
    "# train the model\n",
    "lm = LinearRegression().fit(X_train, y_train)"
   ]
  },
  {
   "cell_type": "code",
   "execution_count": 18,
   "id": "05af27d4",
   "metadata": {
    "ExecuteTime": {
     "end_time": "2021-12-13T02:16:11.281839Z",
     "start_time": "2021-12-13T02:16:11.278807Z"
    }
   },
   "outputs": [],
   "source": [
    "# predict values of y given our hidden test set\n",
    "y_pred = lm.predict(X_test)"
   ]
  },
  {
   "cell_type": "markdown",
   "id": "6a9685e9",
   "metadata": {},
   "source": [
    "Let's compare the first few results"
   ]
  },
  {
   "cell_type": "code",
   "execution_count": 19,
   "id": "2580b9d6",
   "metadata": {
    "ExecuteTime": {
     "end_time": "2021-12-13T02:16:11.287222Z",
     "start_time": "2021-12-13T02:16:11.283067Z"
    }
   },
   "outputs": [
    {
     "data": {
      "text/plain": [
       "(array([[23.6],\n",
       "        [32.4],\n",
       "        [13.6],\n",
       "        [22.8],\n",
       "        [16.1]]),\n",
       " array([[25.50510964],\n",
       "        [30.8592405 ],\n",
       "        [17.42725985],\n",
       "        [25.81325491],\n",
       "        [19.64929972]]))"
      ]
     },
     "execution_count": 19,
     "metadata": {},
     "output_type": "execute_result"
    }
   ],
   "source": [
    "y_test[:5], y_pred[:5]"
   ]
  },
  {
   "cell_type": "markdown",
   "id": "c4c2d991",
   "metadata": {},
   "source": [
    "As you can see, our model seems to be roughly predicting within a reasonable amount away from the true expected predictions."
   ]
  },
  {
   "cell_type": "code",
   "execution_count": 20,
   "id": "3cf46ca0",
   "metadata": {
    "ExecuteTime": {
     "end_time": "2021-12-13T02:16:11.293251Z",
     "start_time": "2021-12-13T02:16:11.288321Z"
    }
   },
   "outputs": [
    {
     "data": {
      "text/plain": [
       "(31.24329060178362, 0.573957741502586)"
      ]
     },
     "execution_count": 20,
     "metadata": {},
     "output_type": "execute_result"
    }
   ],
   "source": [
    "MSE = mean_squared_error(y_test, y_pred)\n",
    "R2 = lm.score(X_test, y_test)\n",
    "MSE, R2"
   ]
  },
  {
   "cell_type": "markdown",
   "id": "6688eb2a",
   "metadata": {},
   "source": [
    "- At the moment, MSE doesn't mean much as we don't have a model to compare it to;\n",
    "- but the R$^2$ suggests our model isn't doing quite well."
   ]
  },
  {
   "cell_type": "markdown",
   "id": "247ad480",
   "metadata": {},
   "source": [
    "## Class Discussion Regression Exercise 1\n",
    "Interpret and Discuss the Fitted Linear Model:\n",
    "- `alpha` is the intercept parameter.\n",
    "- `beta` is the array of coefficients"
   ]
  },
  {
   "cell_type": "code",
   "execution_count": 21,
   "id": "96f12de1",
   "metadata": {
    "ExecuteTime": {
     "end_time": "2021-12-13T02:16:11.296751Z",
     "start_time": "2021-12-13T02:16:11.294225Z"
    }
   },
   "outputs": [],
   "source": [
    "alpha = lm.intercept_\n",
    "beta = lm.coef_"
   ]
  },
  {
   "cell_type": "code",
   "execution_count": 22,
   "id": "0f65d6c6",
   "metadata": {
    "ExecuteTime": {
     "end_time": "2021-12-13T02:16:11.301728Z",
     "start_time": "2021-12-13T02:16:11.298090Z"
    }
   },
   "outputs": [
    {
     "data": {
      "text/plain": [
       "(array([-3.84117708]), array([[ 5.46509877, -0.63249856]]))"
      ]
     },
     "execution_count": 22,
     "metadata": {},
     "output_type": "execute_result"
    }
   ],
   "source": [
    "alpha, beta"
   ]
  },
  {
   "cell_type": "code",
   "execution_count": 23,
   "id": "46c2d1cb",
   "metadata": {
    "ExecuteTime": {
     "end_time": "2021-12-13T02:16:11.306297Z",
     "start_time": "2021-12-13T02:16:11.303609Z"
    }
   },
   "outputs": [],
   "source": [
    "RM = X['RM'].values\n",
    "LSTAT = X['LSTAT'].values\n",
    "\n",
    "MEDV = -3.84 + 5.47*RM -0.63*LSTAT"
   ]
  },
  {
   "cell_type": "markdown",
   "id": "dad00575",
   "metadata": {},
   "source": [
    "Questions:\n",
    "- What do the coefficients indicate?\n",
    "- How do we interpret it?"
   ]
  },
  {
   "cell_type": "markdown",
   "id": "aeb0e41b",
   "metadata": {
    "ExecuteTime": {
     "end_time": "2021-12-13T02:10:57.824127Z",
     "start_time": "2021-12-13T02:10:57.818365Z"
    }
   },
   "source": [
    "Let's see the differences between our predicted and true values."
   ]
  },
  {
   "cell_type": "code",
   "execution_count": 24,
   "id": "ccf97e24",
   "metadata": {
    "ExecuteTime": {
     "end_time": "2021-12-13T02:16:11.316257Z",
     "start_time": "2021-12-13T02:16:11.307501Z"
    }
   },
   "outputs": [
    {
     "data": {
      "text/html": [
       "<div>\n",
       "<style scoped>\n",
       "    .dataframe tbody tr th:only-of-type {\n",
       "        vertical-align: middle;\n",
       "    }\n",
       "\n",
       "    .dataframe tbody tr th {\n",
       "        vertical-align: top;\n",
       "    }\n",
       "\n",
       "    .dataframe thead th {\n",
       "        text-align: right;\n",
       "    }\n",
       "</style>\n",
       "<table border=\"1\" class=\"dataframe\">\n",
       "  <thead>\n",
       "    <tr style=\"text-align: right;\">\n",
       "      <th></th>\n",
       "      <th>MEDV_predicted</th>\n",
       "      <th>MEDV_actual</th>\n",
       "    </tr>\n",
       "  </thead>\n",
       "  <tbody>\n",
       "    <tr>\n",
       "      <th>0</th>\n",
       "      <td>28.98785</td>\n",
       "      <td>24.0</td>\n",
       "    </tr>\n",
       "    <tr>\n",
       "      <th>1</th>\n",
       "      <td>25.52467</td>\n",
       "      <td>21.6</td>\n",
       "    </tr>\n",
       "    <tr>\n",
       "      <th>2</th>\n",
       "      <td>32.92305</td>\n",
       "      <td>34.7</td>\n",
       "    </tr>\n",
       "    <tr>\n",
       "      <th>3</th>\n",
       "      <td>32.58686</td>\n",
       "      <td>33.4</td>\n",
       "    </tr>\n",
       "    <tr>\n",
       "      <th>4</th>\n",
       "      <td>31.89619</td>\n",
       "      <td>36.2</td>\n",
       "    </tr>\n",
       "    <tr>\n",
       "      <th>...</th>\n",
       "      <td>...</td>\n",
       "      <td>...</td>\n",
       "    </tr>\n",
       "    <tr>\n",
       "      <th>501</th>\n",
       "      <td>26.13161</td>\n",
       "      <td>22.4</td>\n",
       "    </tr>\n",
       "    <tr>\n",
       "      <th>502</th>\n",
       "      <td>23.91600</td>\n",
       "      <td>20.6</td>\n",
       "    </tr>\n",
       "    <tr>\n",
       "      <th>503</th>\n",
       "      <td>30.76552</td>\n",
       "      <td>23.9</td>\n",
       "    </tr>\n",
       "    <tr>\n",
       "      <th>504</th>\n",
       "      <td>29.24078</td>\n",
       "      <td>22.0</td>\n",
       "    </tr>\n",
       "    <tr>\n",
       "      <th>505</th>\n",
       "      <td>24.17970</td>\n",
       "      <td>11.9</td>\n",
       "    </tr>\n",
       "  </tbody>\n",
       "</table>\n",
       "<p>506 rows × 2 columns</p>\n",
       "</div>"
      ],
      "text/plain": [
       "     MEDV_predicted  MEDV_actual\n",
       "0          28.98785         24.0\n",
       "1          25.52467         21.6\n",
       "2          32.92305         34.7\n",
       "3          32.58686         33.4\n",
       "4          31.89619         36.2\n",
       "..              ...          ...\n",
       "501        26.13161         22.4\n",
       "502        23.91600         20.6\n",
       "503        30.76552         23.9\n",
       "504        29.24078         22.0\n",
       "505        24.17970         11.9\n",
       "\n",
       "[506 rows x 2 columns]"
      ]
     },
     "execution_count": 24,
     "metadata": {},
     "output_type": "execute_result"
    }
   ],
   "source": [
    "output = pd.DataFrame(MEDV, columns=['MEDV_predicted'])\n",
    "output['MEDV_actual'] = y\n",
    "output"
   ]
  },
  {
   "cell_type": "markdown",
   "id": "ed076141",
   "metadata": {},
   "source": [
    "## Class Discussion Regression Exercise 2\n",
    "Residuals:\n",
    "- A residual is defined to be the difference between the observed value (true value) and the estimated value (our prediction). If you look at the table above, you can see our results are reasonably correct.\n",
    "- If our estimates are good, then the residuals should be very close to the true errors.\n",
    "- For example, a model with perfect fit that can predict with 100% accuracy should have 0 residuals.\n",
    "\n",
    "Interpret the residuals for the test and training data of the model in Example 1."
   ]
  },
  {
   "cell_type": "code",
   "execution_count": 25,
   "id": "3cf6e438",
   "metadata": {
    "ExecuteTime": {
     "end_time": "2021-12-13T02:16:11.486775Z",
     "start_time": "2021-12-13T02:16:11.317415Z"
    }
   },
   "outputs": [
    {
     "data": {
      "image/png": "[encoded data removed]",
      "text/plain": [
       "<Figure size 432x288 with 1 Axes>"
      ]
     },
     "metadata": {
      "needs_background": "light"
     },
     "output_type": "display_data"
    }
   ],
   "source": [
    "# make predictions\n",
    "y_pred_test = lm.predict(X_test)\n",
    "y_pred_train = lm.predict(X_train)\n",
    "\n",
    "# calculate residuals\n",
    "residual_test = [true_val - estimated_val for true_val, estimated_val in zip(y_test, y_pred_test)]\n",
    "residual_train = [true_val - estimated_val for true_val, estimated_val in zip(y_train, y_pred_train)]\n",
    "\n",
    "# plot residuals\n",
    "plt.scatter(y_pred_test, residual_test, label='R^2 test', color='red')\n",
    "plt.scatter(y_pred_train, residual_train, label='R^2 train', alpha=0.15)\n",
    "\n",
    "# plot the 0 line (we want our residuals close to 0)\n",
    "plt.plot([min(y_pred_train), max(y_pred_train)], [0,0], color='green')\n",
    "\n",
    "plt.legend()\n",
    "\n",
    "plt.title(\"Residual plot for LM\")\n",
    "plt.show()"
   ]
  },
  {
   "cell_type": "markdown",
   "id": "d4dea682",
   "metadata": {},
   "source": [
    "1. Do the points have large residuals (differences between true and estimated)?\n",
    "    - We want small residuals that are close to 0.\n",
    "1. Is there a trend or bias in the residuals (i.e does the residuals look evenly spread and flat)?\n",
    "    - We don't want any bias or trend.\n",
    "1. Is there a pattern or correlation in the residuals (i.e is there some kind of relationship in the residuals)?\n",
    "    - We don't want any correlation."
   ]
  },
  {
   "cell_type": "markdown",
   "id": "ad8ad14e",
   "metadata": {},
   "source": [
    "## Class Discussion Regression Exercise 3\n",
    "Fit another linear model using all 13 variables to predict **MEDV**.\n",
    "- Compare the results with those of the model in Question 1 looking at MSE and R$^2$"
   ]
  },
  {
   "cell_type": "code",
   "execution_count": 26,
   "id": "c8fe5534",
   "metadata": {
    "ExecuteTime": {
     "end_time": "2021-12-13T02:16:11.495729Z",
     "start_time": "2021-12-13T02:16:11.488343Z"
    }
   },
   "outputs": [
    {
     "data": {
      "text/plain": [
       "(24.29111947497383, 0.6687594935356278)"
      ]
     },
     "execution_count": 26,
     "metadata": {},
     "output_type": "execute_result"
    }
   ],
   "source": [
    "# create a new split criterion, but now, on the full feature space\n",
    "X_train, X_test, y_train, y_test = train_test_split(df.values, y.values, test_size=0.2, random_state=42)\n",
    "lm_full = LinearRegression().fit(X_train, y_train)\n",
    "y_pred = lm_full.predict(X_test)\n",
    "\n",
    "# calculate evaluation metrics\n",
    "MSE = mean_squared_error(y_test, y_pred)\n",
    "R2 = lm_full.score(X_test, y_test)\n",
    "MSE, R2"
   ]
  },
  {
   "cell_type": "markdown",
   "id": "b67ee5e3",
   "metadata": {},
   "source": [
    "Now our MSE metric is much more useful.\n",
    "- What's the difference?\n",
    "- What does it imply?\n",
    "\n",
    "Likewise with R$^2$. Is our model better?\n",
    "\n",
    "Here's the original model output using the two features from above:\n",
    "```\n",
    "MSE, R2\n",
    "(31.24329060178362, 0.573957741502586)\n",
    "```"
   ]
  }
 ],
 "metadata": {
  "author": "me",
  "kernelspec": {
   "display_name": "Python 3 (ipykernel)",
   "language": "python",
   "name": "python3"
  },
  "language_info": {
   "codemirror_mode": {
    "name": "ipython",
    "version": 3
   },
   "file_extension": ".py",
   "mimetype": "text/x-python",
   "name": "python",
   "nbconvert_exporter": "python",
   "pygments_lexer": "ipython3",
   "version": "3.8.10"
  },
  "latex_envs": {
   "LaTeX_envs_menu_present": true,
   "autoclose": false,
   "autocomplete": true,
   "bibliofile": "biblio.bib",
   "cite_by": "apalike",
   "current_citInitial": 1,
   "eqLabelWithNumbers": true,
   "eqNumInitial": 1,
   "hotkeys": {
    "equation": "Ctrl-E",
    "itemize": "Ctrl-I"
   },
   "labels_anchors": false,
   "latex_user_defs": false,
   "report_style_numbering": false,
   "user_envs_cfg": false
  },
  "varInspector": {
   "cols": {
    "lenName": 16,
    "lenType": 16,
    "lenVar": 40
   },
   "kernels_config": {
    "python": {
     "delete_cmd_postfix": "",
     "delete_cmd_prefix": "del ",
     "library": "var_list.py",
     "varRefreshCmd": "print(var_dic_list())"
    },
    "r": {
     "delete_cmd_postfix": ") ",
     "delete_cmd_prefix": "rm(",
     "library": "var_list.r",
     "varRefreshCmd": "cat(var_dic_list()) "
    }
   },
   "types_to_exclude": [
    "module",
    "function",
    "builtin_function_or_method",
    "instance",
    "_Feature"
   ],
   "window_display": false
  }
 },
 "nbformat": 4,
 "nbformat_minor": 5
}
