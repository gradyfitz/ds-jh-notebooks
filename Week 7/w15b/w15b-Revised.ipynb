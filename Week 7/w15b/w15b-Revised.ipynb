{
 "cells": [
  {
   "cell_type": "markdown",
   "metadata": {},
   "source": [
    "# Working with Files"
   ]
  },
  {
   "cell_type": "markdown",
   "metadata": {},
   "source": [
    "The real power of a programming language such as Python is its ability to process large amounts of data quickly. In some instances, you want to run code to calculate a single number and can simply print this out, but more likely, you want to process a large amount of data and compute a large number of individual data points. In this case, it often makes sense to save the output of your code to a file. In particular, since any data stored in computer memory is deleted once your programs stops, files provide a means of persistent storage (i.e. storage that persists across time, including when a computer is switched on and off), which you will be able to access later, send to others, etc.\n",
    "\n",
    "The ability to work with files is very important when dealing with larger datasets, in terms of reading data in from files, and writing data back out to files. As such, file manipulation is often called \"file input/output\" or **file IO**.\n",
    "\n",
    "A **file** is a linear sequence of data that is stored on persistent storage such as a hard drive. To process the data in a file, you have to perform the following steps:\n",
    "\n",
    "1. Open the file;\n",
    "2. Read data from a file or write data to a file;\n",
    "3. Close the file.\n",
    "\n",
    "The following analogy might help: to process a document in a drawer, you have to first open the drawer, then process the document (i.e. read it), and finally close the drawer. We will discuss each of the file operations in the following slides.\n"
   ]
  },
  {
   "cell_type": "markdown",
   "metadata": {},
   "source": [
    "# Opening Files"
   ]
  },
  {
   "cell_type": "markdown",
   "metadata": {},
   "source": [
    "It is necessary to open a file before performing other operations like reading, writing or appending to a file. Python provides a built-in function `open()` to open a file, that takes the file name as an argument (in the form of a string), and returns a file object, that you can manipulate to read the actual content of the file:\n"
   ]
  },
  {
   "cell_type": "code",
   "execution_count": null,
   "metadata": {},
   "outputs": [],
   "source": [
    "file_object = open(\"quotes.txt\")"
   ]
  },
  {
   "cell_type": "markdown",
   "metadata": {},
   "source": [
    "\n",
    "`open()` takes an optional second argument in the form of a string, which can be used to stipulate the \"mode\" in which to open the file. By default (without the second argument) the mode is **read only**, meaning you can read the content of the file but not modify it any way. There is a close analogy with immutable types such as strings, in that you can access the content of the file but not change the original (but can of course create a new file based on the content of the original, as we will come to in a bit). In practice, you can stipulate read mode with an `\"r\"`, as in:\n"
   ]
  },
  {
   "cell_type": "code",
   "execution_count": null,
   "metadata": {},
   "outputs": [],
   "source": [
    "file_object = open(\"quotes.txt\", \"r\")"
   ]
  },
  {
   "cell_type": "markdown",
   "metadata": {},
   "source": [
    "\n",
    "which is identical in functionality to the first call.\n",
    "\n",
    "The other two commonly-used modes are **write** (= `\"w\"` as a mode string) and **append** (= `\"a\"` as mode string). With write mode, if the file of that name pre-existed, we delete the original contents when we write to it, and if it didn't pre-exist, it is created first. In append mode, if the file pre-existed, we leave the original content intact and write extra content to the end of the file, and if it didn't pre-exist, it is created first (and append functions identically to write). Both the write and append modes can be combined with the read mode.\n",
    "\n",
    "We cover each of these modes in more detail in the following slides, with examples."
   ]
  },
  {
   "cell_type": "markdown",
   "metadata": {},
   "source": [
    "# Closing Files"
   ]
  },
  {
   "cell_type": "markdown",
   "metadata": {},
   "source": [
    "Having opened a file, it is good to get into the habit of closing it when you have finished with it, with the `.close()` method:\n"
   ]
  },
  {
   "cell_type": "code",
   "execution_count": null,
   "metadata": {},
   "outputs": [],
   "source": [
    "file_object = open(\"quotes.txt\")\n",
    "file_object.close()"
   ]
  },
  {
   "cell_type": "markdown",
   "metadata": {},
   "source": [
    "\n",
    "When you close a file, two things happen: (1) all data that has been written/appended to the file is \"flushed\" through to the file, and it is closed on the computer's file system; and (2) the file object associated with the file can no longer be used to manipulate the file. This second thing can be a [good](http://www.independent.co.uk/news/boaty-mcboatface-could-be-the-name-of-200m-research-vessel-after-public-vote-a6942551.html) way of safeguarding against inadvertently modifying a file after you have finished with it.\n",
    "\n",
    "When a file is opened, some system resources such as memory are allocated to allow for file processing. It is important to free these system resources on completion of the file processing.\n",
    "\n",
    "The `.close()` method in Python closes the file and writes the actual data to the disk. It prevents further access to the content of the file until it is opened again."
   ]
  },
  {
   "cell_type": "markdown",
   "metadata": {},
   "source": [
    "# Reading Files"
   ]
  },
  {
   "cell_type": "markdown",
   "metadata": {},
   "source": [
    "To read the contents of a file once you have opened it, Python file objects provide a range of methods. We discuss the `.read()` method below. You can find general information on other methods in the [Python IO object documentation](https://docs.python.org/3/library/io.html#io.IOBase) and information specific to reading plain text files in the [Text IO documentation](https://docs.python.org/3/library/io.html#io.TextIOBase).\n",
    "\n",
    "Say we have a text file on our computer named `\"quotes.txt\"`, as follows.\n"
   ]
  },
  {
   "cell_type": "raw",
   "metadata": {
    "ExecuteTime": {
     "end_time": "2021-11-22T00:21:29.462165Z",
     "start_time": "2021-11-22T00:21:29.458420Z"
    }
   },
   "source": [
    "'Twas brillig, and the slithy toves, Did gyre and gimble in the wabe: All mimsy were the borogoves, And the mome raths outgrabe."
   ]
  },
  {
   "cell_type": "markdown",
   "metadata": {},
   "source": [
    "\n",
    "The `.read()` method reads the entire content of the file object associated with that file and returns it as a `str`, as we see in the following program:\n"
   ]
  },
  {
   "cell_type": "code",
   "execution_count": 2,
   "metadata": {
    "ExecuteTime": {
     "end_time": "2021-11-22T00:21:37.910736Z",
     "start_time": "2021-11-22T00:21:37.907508Z"
    }
   },
   "outputs": [
    {
     "name": "stdout",
     "output_type": "stream",
     "text": [
      "'Twas brillig, and the slithy toves, Did gyre and gimble in the wabe: All mimsy were the borogoves, And the mome raths outgrabe.\n"
     ]
    }
   ],
   "source": [
    "fp = open(\"quotes.txt\")\n",
    "content = fp.read()\n",
    "fp.close()\n",
    "print(content)"
   ]
  },
  {
   "cell_type": "markdown",
   "metadata": {},
   "source": [
    "# Reading Files a Line at a Time"
   ]
  },
  {
   "cell_type": "markdown",
   "metadata": {},
   "source": [
    "Another useful and commonly-used method for reading files is `.readlines()`, which returns an object which allows us to iterature over the lines in the file.\n",
    "\n",
    "Let's modify the file `\"quotes.txt\"` slightly, as follows, to be split over 4 lines:\n"
   ]
  },
  {
   "cell_type": "markdown",
   "metadata": {},
   "source": [
    "```\n",
    "'Twas brillig, and the slithy toves\n",
    "Did gyre and gimble in the wabe:\n",
    "All mimsy were the borogoves,\n",
    "And the mome raths outgrabe.\n",
    "```"
   ]
  },
  {
   "cell_type": "markdown",
   "metadata": {},
   "source": [
    "\n",
    "We can now iterate over the lines one at a time (which can be much more memory-efficient for large files!) as follows:\n"
   ]
  },
  {
   "cell_type": "code",
   "execution_count": 3,
   "metadata": {
    "ExecuteTime": {
     "end_time": "2021-11-22T00:22:04.090521Z",
     "start_time": "2021-11-22T00:22:04.086817Z"
    }
   },
   "outputs": [
    {
     "name": "stdout",
     "output_type": "stream",
     "text": [
      "1: 'Twas brillig, and the slithy toves\n",
      "2: Did gyre and gimble in the wabe:\n",
      "3: All mimsy were the borogoves,\n",
      "4: And the mome raths outgrabe."
     ]
    }
   ],
   "source": [
    "fp = open(\"jabberwocky1.txt\")\n",
    "\n",
    "lineno = 1\n",
    "for line in fp.readlines():\n",
    "    print(f\"{lineno}: {line}\", end=\"\")\n",
    "    lineno += 1\n",
    "    \n",
    "fp.close()"
   ]
  },
  {
   "cell_type": "markdown",
   "metadata": {},
   "source": [
    "\n",
    "Note the use of the `end` keyword in each call to `print()`, to suppress the insertion of a newline character, as each line in the file is, by definition, terminated by a newline.\n",
    "\n",
    "You can also iterate over the lines in the file by iterating directly over the file handle:\n"
   ]
  },
  {
   "cell_type": "markdown",
   "metadata": {},
   "source": [
    "```\n",
    "\"Beware the Jabberwock, my son!\n",
    "The jaws that bite, the claws that catch!\n",
    "Beware the Jubjub bird, and shun\n",
    "The frumious Bandersnatch!\"\n",
    "```"
   ]
  },
  {
   "cell_type": "code",
   "execution_count": 4,
   "metadata": {
    "ExecuteTime": {
     "end_time": "2021-11-22T00:22:19.000543Z",
     "start_time": "2021-11-22T00:22:18.996449Z"
    }
   },
   "outputs": [
    {
     "name": "stdout",
     "output_type": "stream",
     "text": [
      "1: \"Beware the Jabberwock, my son!\n",
      "2: The jaws that bite, the claws that catch!\n",
      "3: Beware the Jubjub bird, and shun\n",
      "4: The frumious Bandersnatch!\""
     ]
    }
   ],
   "source": [
    "fp = open(\"jabberwocky2.txt\")\n",
    "\n",
    "lineno = 1\n",
    "for line in fp:  # note no readlines()\n",
    "    print(f\"{lineno}: {line}\", end=\"\")\n",
    "    lineno += 1\n",
    "    \n",
    "fp.close()"
   ]
  },
  {
   "cell_type": "markdown",
   "metadata": {},
   "source": [
    "# Appending to Files"
   ]
  },
  {
   "cell_type": "markdown",
   "metadata": {},
   "source": [
    "A file must be opened in either write or append mode if you want to alter its contents. In append mode (denoted by `'a'`), the new data is added to the end of the existing contents of the file, whereas in write mode (denoted by `'w'`), the new data overwrites the old data resulting in the loss of the original contents of the file. You should be careful when choosing the mode to edit a file. In the following discussion, we use the term \"editing\" to refer to both writing and appending data to a file.\n",
    "\n",
    "Having opened the file, you can then use the `.write(text)` method over a file handle to write the string `text` to that file, or `.writelines(str_list)` to write the list of strings `str_list` to the file.\n",
    "\n",
    "Let's put this into practice. Say there is a file named `quotes2.txt` with the following content:\n"
   ]
  },
  {
   "cell_type": "raw",
   "metadata": {},
   "source": [
    "If A is success in life, then A equals x plus y plus z. Work is x; y is play; and z is keeping your mouth shut."
   ]
  },
  {
   "cell_type": "markdown",
   "metadata": {},
   "source": [
    "\n",
    "Based on what we told you above, think about what the following code will do, and then try running it (noting what happens to the original file on running the code):\n"
   ]
  },
  {
   "cell_type": "code",
   "execution_count": 5,
   "metadata": {
    "ExecuteTime": {
     "end_time": "2021-11-22T00:23:19.966223Z",
     "start_time": "2021-11-22T00:23:19.962966Z"
    }
   },
   "outputs": [
    {
     "name": "stdout",
     "output_type": "stream",
     "text": [
      "If A is success in life, then A equals x plus y plus z. Work is x; y is play; and z is keeping your mouth shut.\n",
      "\n",
      "-Albert Einstein\n"
     ]
    }
   ],
   "source": [
    "fp = open(\"quotes2.txt\", \"a\")\n",
    "fp.write(\"\\n\\n-Albert Einstein\")\n",
    "fp.close()\n",
    "\n",
    "fp = open(\"quotes2.txt\", \"r\")\n",
    "print(fp.read())\n",
    "fp.close()"
   ]
  },
  {
   "cell_type": "markdown",
   "metadata": {},
   "source": [
    "\n",
    "> ## End-of-line Characters\n",
    "> `\\n` is a special character called an **newline** character that, when printed, generates a line break. In this case, the string `\\n\\n-Albert Einstein` translates into *print two blank lines, then print `-Albert Einstein`*.\n"
   ]
  },
  {
   "cell_type": "markdown",
   "metadata": {},
   "source": [
    "# Writing Files"
   ]
  },
  {
   "cell_type": "markdown",
   "metadata": {},
   "source": [
    "In the previous slide, the file was opened in append mode, which means that the string was added to the end of the file. If the file were opened in write mode, its original content would be overwritten after the execution of the `.write()` method and the resulting file would only contain the string `\\n\\n-AlbertEinstein`.\n",
    "\n",
    "Say a file named `\"quotes3.txt\"` has the following content:\n"
   ]
  },
  {
   "cell_type": "markdown",
   "metadata": {},
   "source": [
    "```If A is success in life, then A equals x plus y plus z. Work is x; y is play; and z is keeping your mouth shut.```"
   ]
  },
  {
   "cell_type": "markdown",
   "metadata": {},
   "source": [
    "\n",
    "Try to predict what will happen when you run the following code, then run it to test your hypothesis. Again, play careful attention to what happens to the original file as part of this:\n"
   ]
  },
  {
   "cell_type": "code",
   "execution_count": 6,
   "metadata": {
    "ExecuteTime": {
     "end_time": "2021-11-22T00:24:09.289569Z",
     "start_time": "2021-11-22T00:24:09.286040Z"
    }
   },
   "outputs": [
    {
     "name": "stdout",
     "output_type": "stream",
     "text": [
      "\n",
      "\n",
      "-Albert Einstein\n"
     ]
    }
   ],
   "source": [
    "fp = open(\"quotes3.txt\", \"w\")\n",
    "fp.write(\"\\n\\n-Albert Einstein\")\n",
    "fp.close()\n",
    "\n",
    "fp = open(\"quotes3.txt\", \"r\")\n",
    "print(fp.read())\n",
    "fp.close()"
   ]
  },
  {
   "cell_type": "markdown",
   "metadata": {},
   "source": [
    "# File Creation"
   ]
  },
  {
   "cell_type": "markdown",
   "metadata": {},
   "source": [
    "If you try to open a file that doesn't exist for reading, you get an error. The reason is that you cannot read a non-existent file.\n"
   ]
  },
  {
   "cell_type": "raw",
   "metadata": {},
   "source": [
    "fp = open(\"a_text_file.txt\",  \"r\")"
   ]
  },
  {
   "cell_type": "code",
   "execution_count": null,
   "metadata": {},
   "outputs": [],
   "source": [
    "# Try running the last example here"
   ]
  },
  {
   "cell_type": "markdown",
   "metadata": {},
   "source": [
    "\n",
    "How do you create a new file then? Python does not provide a special function for file creation. Instead, it uses  the `open()` function in write or append mode:\n"
   ]
  },
  {
   "cell_type": "code",
   "execution_count": null,
   "metadata": {},
   "outputs": [],
   "source": [
    "fp = open(\"a_text_file.txt\", \"w\")\n",
    "fp.close()\n",
    "fp = open(\"a_text_file.txt\", \"r\")\n",
    "fp.close()\n",
    "print(\"See, no error!\")"
   ]
  },
  {
   "cell_type": "markdown",
   "metadata": {},
   "source": [
    "\n",
    "Note that you do not get any feedback on whether or not the file you opened for editing is a new file. You can add data to the new file as discussed above or leave the file empty by closing the file immediately after its creation.\n"
   ]
  },
  {
   "cell_type": "markdown",
   "metadata": {},
   "source": [
    "# Summary\n",
    "For opening files:\n",
    "- `open(filename, 'r')`: Read-only\n",
    "- `open(filename, 'w')`: Write (overwrites the file if it exists)\n",
    "- `open(filename, 'a')`: Append (append at the end of the file like `list.append()`)\n",
    "\n",
    "Special Cases:\n",
    "- `open(filename, 'wb')`: Write binary outputs (covered later with `XML`)\n",
    "\n",
    "Reading file values:\n",
    "- `f.read()`: Read the whole file as a **single string**\n",
    "- `f.readlines()`: Returns a `list` of `string`, where each `string` represents a single line in the file.\n",
    "\n",
    "Although `pandas` will cover most data formats in an easy-to-code format, you will need to use `open()` from time-to-time for the other formats such as `XML` and `JSON`!"
   ]
  }
 ],
 "metadata": {
  "kernelspec": {
   "display_name": "Python 3 (ipykernel)",
   "language": "python",
   "name": "python3"
  },
  "language_info": {
   "codemirror_mode": {
    "name": "ipython",
    "version": 3
   },
   "file_extension": ".py",
   "mimetype": "text/x-python",
   "name": "python",
   "nbconvert_exporter": "python",
   "pygments_lexer": "ipython3",
   "version": "3.8.10"
  },
  "latex_envs": {
   "LaTeX_envs_menu_present": true,
   "autoclose": false,
   "autocomplete": true,
   "bibliofile": "biblio.bib",
   "cite_by": "apalike",
   "current_citInitial": 1,
   "eqLabelWithNumbers": true,
   "eqNumInitial": 1,
   "hotkeys": {
    "equation": "Ctrl-E",
    "itemize": "Ctrl-I"
   },
   "labels_anchors": false,
   "latex_user_defs": false,
   "report_style_numbering": false,
   "user_envs_cfg": false
  },
  "toc": {
   "base_numbering": 1,
   "nav_menu": {},
   "number_sections": true,
   "sideBar": true,
   "skip_h1_title": false,
   "title_cell": "Table of Contents",
   "title_sidebar": "Contents",
   "toc_cell": false,
   "toc_position": {},
   "toc_section_display": true,
   "toc_window_display": false
  },
  "varInspector": {
   "cols": {
    "lenName": 16,
    "lenType": 16,
    "lenVar": 40
   },
   "kernels_config": {
    "python": {
     "delete_cmd_postfix": "",
     "delete_cmd_prefix": "del ",
     "library": "var_list.py",
     "varRefreshCmd": "print(var_dic_list())"
    },
    "r": {
     "delete_cmd_postfix": ") ",
     "delete_cmd_prefix": "rm(",
     "library": "var_list.r",
     "varRefreshCmd": "cat(var_dic_list()) "
    }
   },
   "types_to_exclude": [
    "module",
    "function",
    "builtin_function_or_method",
    "instance",
    "_Feature"
   ],
   "window_display": false
  }
 },
 "nbformat": 4,
 "nbformat_minor": 1
}
