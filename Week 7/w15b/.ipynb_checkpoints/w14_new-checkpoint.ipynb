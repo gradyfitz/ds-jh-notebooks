{
 "cells": [
  {
   "cell_type": "markdown",
   "metadata": {},
   "source": [
    "# Working with Files"
   ]
  },
  {
   "cell_type": "markdown",
   "metadata": {},
   "source": [
    "The real power of a programming language such as Python is its ability to process large amounts of data quickly. In some instances, you want to run code to calculate a single number and can simply print this out, but more likely, you want to process a large amount of data and compute a large number of individual data points. In this case, it often makes sense to save the output of your code to a file. In particular, since any data stored in computer memory is deleted once your programs stops, files provide a means of persistent storage (i.e. storage that persists across time, including when a computer is switched on and off), which you will be able to access later, send to others, etc.\n",
    "\n",
    "The ability to work with files is very important when dealing with larger datasets, in terms of reading data in from files, and writing data back out to files. As such, file manipulation is often called \"file input/output\" or **file IO**.\n",
    "\n",
    "A **file** is a linear sequence of data that is stored on persistent storage such as a hard drive. To process the data in a file, you have to perform the following steps:\n",
    "\n",
    "1. Open the file;\n",
    "2. Read data from a file or write data to a file;\n",
    "3. Close the file.\n",
    "\n",
    "The following analogy might help: to process a document in a drawer, you have to first open the drawer, then process the document (i.e. read it), and finally close the drawer. We will discuss each of the file operations in the following slides.\n"
   ]
  },
  {
   "cell_type": "markdown",
   "metadata": {},
   "source": [
    "# Opening Files"
   ]
  },
  {
   "cell_type": "markdown",
   "metadata": {},
   "source": [
    "It is necessary to open a file before performing other operations like reading, writing or appending to a file. Python provides a built-in function `open()` to open a file, that takes the file name as an argument (in the form of a string), and returns a file object, that you can manipulate to read the actual content of the file:\n"
   ]
  },
  {
   "cell_type": "code",
   "execution_count": null,
   "metadata": {},
   "outputs": [],
   "source": [
    "file_object = open(\"quotes.txt\")"
   ]
  },
  {
   "cell_type": "markdown",
   "metadata": {},
   "source": [
    "\n",
    "`open()` takes an optional second argument in the form of a string, which can be used to stipulate the \"mode\" in which to open the file. By default (without the second argument) the mode is **read only**, meaning you can read the content of the file but not modify it any way. There is a close analogy with immutable types such as strings, in that you can access the content of the file but not change the original (but can of course create a new file based on the content of the original, as we will come to in a bit). In practice, you can stipulate read mode with an `\"r\"`, as in:\n"
   ]
  },
  {
   "cell_type": "code",
   "execution_count": null,
   "metadata": {},
   "outputs": [],
   "source": [
    "file_object = open(\"quotes.txt\", \"r\")"
   ]
  },
  {
   "cell_type": "markdown",
   "metadata": {},
   "source": [
    "\n",
    "which is identical in functionality to the first call.\n",
    "\n",
    "The other two commonly-used modes are **write** (= `\"w\"` as a mode string) and **append** (= `\"a\"` as mode string). With write mode, if the file of that name pre-existed, we delete the original contents when we write to it, and if it didn't pre-exist, it is created first. In append mode, if the file pre-existed, we leave the original content intact and write extra content to the end of the file, and if it didn't pre-exist, it is created first (and append functions identically to write). Both the write and append modes can be combined with the read mode.\n",
    "\n",
    "We cover each of these modes in more detail in the following slides, with examples."
   ]
  },
  {
   "cell_type": "markdown",
   "metadata": {},
   "source": [
    "# Closing Files"
   ]
  },
  {
   "cell_type": "markdown",
   "metadata": {},
   "source": [
    "Having opened a file, it is good to get into the habit of closing it when you have finished with it, with the `.close()` method:\n"
   ]
  },
  {
   "cell_type": "code",
   "execution_count": null,
   "metadata": {},
   "outputs": [],
   "source": [
    "file_object = open(\"quotes.txt\")\n",
    "file_object.close()"
   ]
  },
  {
   "cell_type": "markdown",
   "metadata": {},
   "source": [
    "\n",
    "When you close a file, two things happen: (1) all data that has been written/appended to the file is \"flushed\" through to the file, and it is closed on the computer's file system; and (2) the file object associated with the file can no longer be used to manipulate the file. This second thing can be a [good](http://www.independent.co.uk/news/boaty-mcboatface-could-be-the-name-of-200m-research-vessel-after-public-vote-a6942551.html) way of safeguarding against inadvertently modifying a file after you have finished with it.\n",
    "\n",
    "When a file is opened, some system resources such as memory are allocated to allow for file processing. It is important to free these system resources on completion of the file processing.\n",
    "\n",
    "The `.close()` method in Python closes the file and writes the actual data to the disk. It prevents further access to the content of the file until it is opened again.\n",
    "\n",
    "> ## Function vs. Method\n",
    "> The question of whether something should be a function or a method has come up a couple of times already, but there is an interesting asymmetry here, with `open()` being a function and `.close()` a method. Why do you think this is? Would it make sense for `open()` to be a method or `.close()` to be a function?\n",
    ">\n",
    "> One reason why `.close()` is useful as a method is because it works on a specific file object. This way, there's no need to add any arguments or worry about any errors specifying which file you need to close. Maybe it would be nice if `open()` were a method too, but there's only one problem: we need to open the file before we can use the file object!"
   ]
  },
  {
   "cell_type": "markdown",
   "metadata": {},
   "source": [
    "# Reading Files"
   ]
  },
  {
   "cell_type": "markdown",
   "metadata": {},
   "source": [
    "To read the contents of a file once you have opened it, Python file objects provide a range of methods. We discuss the `.read()` method below. You can find general information on other methods in the [Python IO object documentation](https://docs.python.org/3/library/io.html#io.IOBase) and information specific to reading plain text files in the [Text IO documentation](https://docs.python.org/3/library/io.html#io.TextIOBase).\n",
    "\n",
    "Say we have a text file on our computer named `\"quotes.txt\"`, as follows.\n"
   ]
  },
  {
   "cell_type": "code",
   "execution_count": null,
   "metadata": {},
   "outputs": [],
   "source": [
    "'Twas brillig, and the slithy toves, Did gyre and gimble in the wabe: All mimsy were the borogoves, And the mome raths outgrabe."
   ]
  },
  {
   "cell_type": "markdown",
   "metadata": {},
   "source": [
    "\n",
    "The `.read()` method reads the entire content of the file object associated with that file and returns it as a `str`, as we see in the following program:\n"
   ]
  },
  {
   "cell_type": "code",
   "execution_count": null,
   "metadata": {},
   "outputs": [],
   "source": [
    "fp = open(\"quotes.txt\")\n",
    "content = fp.read()\n",
    "fp.close()\n",
    "print(content)"
   ]
  },
  {
   "cell_type": "markdown",
   "metadata": {},
   "source": [
    "# Reading Files a Line at a Time"
   ]
  },
  {
   "cell_type": "markdown",
   "metadata": {},
   "source": [
    "Another useful and commonly-used method for reading files is `.readlines()`, which returns an object which allows us to iterature over the lines in the file.\n",
    "\n",
    "Let's modify the file `\"quotes.txt\"` slightly, as follows, to be split over 4 lines:\n"
   ]
  },
  {
   "cell_type": "raw",
   "metadata": {},
   "source": [
    "'Twas brillig, and the slithy toves\n",
    "Did gyre and gimble in the wabe:\n",
    "All mimsy were the borogoves,\n",
    "And the mome raths outgrabe."
   ]
  },
  {
   "cell_type": "markdown",
   "metadata": {},
   "source": [
    "\n",
    "We can now iterate over the lines one at a time (which can be much more memory-efficient for large files!) as follows:\n"
   ]
  },
  {
   "cell_type": "code",
   "execution_count": null,
   "metadata": {},
   "outputs": [],
   "source": [
    "fp = open(\"jabberwocky1.txt\")\n",
    "lineno = 1\n",
    "for line in fp.readlines():\n",
    "    print(f\"{lineno}: {line}\", end=\"\")\n",
    "    lineno += 1\n",
    "fp.close()"
   ]
  },
  {
   "cell_type": "markdown",
   "metadata": {},
   "source": [
    "\n",
    "Note the use of the `end` keyword in each call to `print()`, to suppress the insertion of a newline character, as each line in the file is, by definition, terminated by a newline.\n",
    "\n",
    "You can also iterate over the lines in the file by iterating directly over the file handle:\n"
   ]
  },
  {
   "cell_type": "raw",
   "metadata": {},
   "source": [
    "\"Beware the Jabberwock, my son!\n",
    "The jaws that bite, the claws that catch!\n",
    "Beware the Jubjub bird, and shun\n",
    "The frumious Bandersnatch!\""
   ]
  },
  {
   "cell_type": "code",
   "execution_count": null,
   "metadata": {},
   "outputs": [],
   "source": [
    "fp = open(\"jabberwocky2.txt\")\n",
    "lineno = 1\n",
    "for line in fp:  # note no readlines()\n",
    "    print(f\"{lineno}: {line}\", end=\"\")\n",
    "    lineno += 1\n",
    "fp.close()"
   ]
  },
  {
   "cell_type": "markdown",
   "metadata": {},
   "source": [
    "# Problem: Forgetful Karaoke"
   ]
  },
  {
   "cell_type": "markdown",
   "metadata": {},
   "source": [
    "**Life hack:** if you're really bad at karaoke and can't remember the words, you can just repeatedly sing one word.\n",
    "If it's the most common word in the song, you'll be right more often than you might think (and may get away with it!).\n",
    "\n",
    "Write a function `approximate_song(filename)` that reads the lyrics of the song in the file of name `filename`, and returns the most common word in the song.\n",
    "In the event of a tie, your function should return the word that comes first alphabetically. Assume that words are whitespace-delimited, and use `.split()` with no stripping of punctuation or folding of case to extract the words from the text.\n",
    "\n",
    "We have provided lyrics for three songs for you to test your function: `somebody.txt`, `barbrastreisand.txt`, and `fakesong.txt`.\n",
    "Note these are not the only files we will use to test your code. You can see the contents of these files by clicking on the tabs at the top-right of the page.\n",
    "Outputs should be as below:\n"
   ]
  },
  {
   "cell_type": "raw",
   "metadata": {},
   "source": [
    ">>> approximate_song('somebody.txt')\n",
    "'that'\n",
    ">>> approximate_song('fakesong.txt')\n",
    "'dum'\n",
    ">>> approximate_song('barbrastreisand.txt')\n",
    "'whooo-oo'"
   ]
  },
  {
   "cell_type": "markdown",
   "metadata": {},
   "source": [
    "\n",
    "> ## Dictionaries\n",
    "> This is very similar to the Top-5 Frequent words problem in Worksheet 11. Feel free to reuse your solution!"
   ]
  },
  {
   "cell_type": "code",
   "execution_count": null,
   "metadata": {},
   "outputs": [],
   "source": [
    "# Your solution here"
   ]
  },
  {
   "cell_type": "markdown",
   "metadata": {},
   "source": [
    "# Appending to Files"
   ]
  },
  {
   "cell_type": "markdown",
   "metadata": {},
   "source": [
    "A file must be opened in either write or append mode if you want to alter its contents. In append mode (denoted by `'a'`), the new data is added to the end of the existing contents of the file, whereas in write mode (denoted by `'w'`), the new data overwrites the old data resulting in the loss of the original contents of the file. You should be careful when choosing the mode to edit a file. In the following discussion, we use the term \"editing\" to refer to both writing and appending data to a file.\n",
    "\n",
    "Having opened the file, you can then use the `.write(text)` method over a file handle to write the string `text` to that file, or `.writelines(str_list)` to write the list of strings `str_list` to the file.\n",
    "\n",
    "Let's put this into practice. Say there is a file named `quotes.txt` with the following content:\n"
   ]
  },
  {
   "cell_type": "code",
   "execution_count": null,
   "metadata": {},
   "outputs": [],
   "source": [
    "If A is success in life, then A equals x plus y plus z. Work is x; y is play; and z is keeping your mouth shut."
   ]
  },
  {
   "cell_type": "markdown",
   "metadata": {},
   "source": [
    "\n",
    "Based on what we told you above, think about what the following code will do, and then try running it (noting what happens to the original file on running the code):\n"
   ]
  },
  {
   "cell_type": "code",
   "execution_count": null,
   "metadata": {},
   "outputs": [],
   "source": [
    "fp = open(\"quotes.txt\", \"a\")\n",
    "fp.write(\"\\n\\n-Albert Einstein\")\n",
    "fp.close()\n",
    "fp = open(\"quotes.txt\", \"r\")\n",
    "print(fp.read())\n",
    "fp.close()"
   ]
  },
  {
   "cell_type": "markdown",
   "metadata": {},
   "source": [
    "\n",
    "> ## End-of-line Characters\n",
    "> `\\n` is a special character called an **newline** character that, when printed, generates a line break. In this case, the string `\\n\\n-Albert Einstein` translates into *print two blank lines, then print `-Albert Einstein`*.\n"
   ]
  },
  {
   "cell_type": "markdown",
   "metadata": {},
   "source": [
    "# Writing Files"
   ]
  },
  {
   "cell_type": "markdown",
   "metadata": {},
   "source": [
    "In the previous slide, the file was opened in append mode, which means that the string was added to the end of the file. If the file were opened in write mode, its original content would be overwritten after the execution of the `.write()` method and the resulting file would only contain the string `\\n\\n-AlbertEinstein`.\n",
    "\n",
    "Say a file named `\"quotes.txt\"` has the following content:\n"
   ]
  },
  {
   "cell_type": "raw",
   "metadata": {},
   "source": [
    "If A is success in life, then A equals x plus y plus z. Work is x; y is play; and z is keeping your mouth shut."
   ]
  },
  {
   "cell_type": "markdown",
   "metadata": {},
   "source": [
    "\n",
    "Try to predict what will happen when you run the following code, then run it to test your hypothesis. Again, play careful attention to what happens to the original file as part of this:\n"
   ]
  },
  {
   "cell_type": "code",
   "execution_count": null,
   "metadata": {},
   "outputs": [],
   "source": [
    "fp = open(\"quotes.txt\", \"w\")\n",
    "fp.write(\"\\n\\n-Albert Einstein\")\n",
    "fp.close()\n",
    "fp = open(\"quotes.txt\", \"r\")\n",
    "print(fp.read())\n",
    "fp.close()"
   ]
  },
  {
   "cell_type": "markdown",
   "metadata": {},
   "source": [
    "# File Creation"
   ]
  },
  {
   "cell_type": "markdown",
   "metadata": {},
   "source": [
    "If you try to open a file that doesn't exist for reading, you get an error. The reason is that you cannot read a non-existent file.\n"
   ]
  },
  {
   "cell_type": "raw",
   "metadata": {},
   "source": [
    "fp = open(\"a_text_file.txt\",  \"r\")"
   ]
  },
  {
   "cell_type": "code",
   "execution_count": null,
   "metadata": {},
   "outputs": [],
   "source": [
    "# Try running the last example here"
   ]
  },
  {
   "cell_type": "markdown",
   "metadata": {},
   "source": [
    "\n",
    "How do you create a new file then? Python does not provide a special function for file creation. Instead, it uses  the `open()` function in write or append mode:\n"
   ]
  },
  {
   "cell_type": "code",
   "execution_count": null,
   "metadata": {},
   "outputs": [],
   "source": [
    "fp = open(\"a_text_file.txt\", \"w\")\n",
    "fp.close()\n",
    "fp = open(\"a_text_file.txt\", \"r\")\n",
    "fp.close()\n",
    "print(\"See, no error!\")"
   ]
  },
  {
   "cell_type": "markdown",
   "metadata": {},
   "source": [
    "\n",
    "Note that you do not get any feedback on whether or not the file you opened for editing is a new file. You can add data to the new file as discussed above or leave the file empty by closing the file immediately after its creation.\n"
   ]
  },
  {
   "cell_type": "markdown",
   "metadata": {},
   "source": [
    "# Problem: Concatenate Files"
   ]
  },
  {
   "cell_type": "markdown",
   "metadata": {},
   "source": [
    "Write a function `concatenate_files(filename1, filename2, new_filename)` that concatenates the text from two source files such that the text from the file named by argument `filename2` follows the text from `filename1`.\n",
    "The concatenated text is written to a new file with the name given by `new_filename`.\n",
    "Your function must not return anything.\n",
    "\n",
    "We have provided sample input files named `part1.txt` and `part2.txt` containing a portion of the text from the novel *Alice in Wonderland* to test your function.\n",
    "\n",
    "> ## Closing Files\n",
    "> Do not forget to close your files!"
   ]
  },
  {
   "cell_type": "code",
   "execution_count": null,
   "metadata": {},
   "outputs": [],
   "source": [
    "# Your solution here"
   ]
  },
  {
   "cell_type": "markdown",
   "metadata": {},
   "source": [
    "# The CSV Format"
   ]
  },
  {
   "cell_type": "markdown",
   "metadata": {},
   "source": [
    "The Comma-Separated Values (**CSV**) data format is a well-known format for representing tabular data. It is one of the most common formats for importing and exporting data between spreadsheets and databases. Its name emanates from the fact that each field or value in the data file is separated by a comma (and there is a closely related format called TSV where values are separated by tab characters, although CSV is often used to refer to this file type too). Here is an example CSV file containing patient records:\n"
   ]
  },
  {
   "cell_type": "raw",
   "metadata": {},
   "source": [
    "Patient ID,Name,Date admitted,Contact number\n",
    "126780,Alex McLeod,20/02/08,93761837\n",
    "126781,Cynthia Roberts,20/02/08,98557624"
   ]
  },
  {
   "cell_type": "markdown",
   "metadata": {},
   "source": [
    "\n",
    "Each line in the data is called a **row** or a **record**. The values in each column (called **field values**) are separated by a comma. The first row is generally a header row, which lays out the number and order of the field values in the data, along with a textual description of each. For example, the above data has four fields in the order `Patient ID`, `Name`, `Date admitted` and `Contact number`. Therefore, the last record corresponds to the patient with ID `126781`, name `Cynthia Roberts`, and so on."
   ]
  },
  {
   "cell_type": "markdown",
   "metadata": {},
   "source": [
    "# The <code data-lang=\"py3\">csv</code> Library"
   ]
  },
  {
   "cell_type": "markdown",
   "metadata": {},
   "source": [
    "The easiest and most robust way to process CSV files is with the `csv` library.\n",
    "\n",
    "The simplest way to iterate through the rows in a CSV file is with the `csv.reader()` function. It takes an open file containing CSV data as its argument, and returns a special object called a CSV reader. The `reader` object is a bit like `.readlines()` for iterating through files in that each row corresponds to a line in the CSV file, but it additionally automatically splits lines into a list of strings. As part of this, it has the ability to determine whether a comma is a delimiter or part of the text within a field, as in the example:\n"
   ]
  },
  {
   "cell_type": "raw",
   "metadata": {},
   "source": [
    "Name,Patient ID\n",
    "\"Smith, Kim\",123456"
   ]
  },
  {
   "cell_type": "markdown",
   "metadata": {},
   "source": [
    "\n",
    "In this file, the comma in `Smith, Kim` isn't considered to be a delimiter as it is contained within a quoted string. The ability to identify this gives `csv.reader()` a big advantage over manual processing using standard file and string processing methods such as `.readlines()` and `.split()`.\n",
    "\n",
    "The following is an example CSV file named `\"vic_visitors.csv\"` that stores the number of visitors to regions in Victoria during 2004 and 2007 (this data was obtained from [Tourism Victoria](https://www.tourism.vic.gov.au/images/stories/international-visitation-regions-of-victoria-ye-Dec-2007.pdf)):\n"
   ]
  },
  {
   "cell_type": "raw",
   "metadata": {},
   "source": [
    "Victoria's Regions,2004,2005,2006,2007\n",
    "Gippsland,63354,47083,51517,54872\n",
    "Goldfields,42625,36358,30358,36486\n",
    "Grampians,64092,41773,29102,38058\n",
    "Great Ocean Road,185456,153925,150268,167458\n",
    "Melbourne,1236417,1263118,1357800,1377291"
   ]
  },
  {
   "cell_type": "markdown",
   "metadata": {},
   "source": [
    "\n",
    "Let's first print the contents of the CSV file:\n"
   ]
  },
  {
   "cell_type": "code",
   "execution_count": null,
   "metadata": {},
   "outputs": [],
   "source": [
    "import csv\n",
    "visitors = open(\"vic_visitors.csv\")\n",
    "for line in csv.reader(visitors):\n",
    "    print(line)\n",
    "visitors.close()"
   ]
  },
  {
   "cell_type": "markdown",
   "metadata": {},
   "source": [
    "\n",
    "Note that each line is a list that contains a single row of the CSV data.\n"
   ]
  },
  {
   "cell_type": "markdown",
   "metadata": {},
   "source": [
    "# Column Headings"
   ]
  },
  {
   "cell_type": "markdown",
   "metadata": {},
   "source": [
    "The first row of a CSV file is often a header. In our example in the previous slide, the CSV data described the number of visitors to different regions of Victoria for the years 2004 to 2007. The first line, however, was different to the other lines. It is called the **header row** and provides a textual label for each column of the file. According to the header row, the first column lists the regions of Victoria, and the subsequent columns indicate the number of visitors in each year. If you wanted to retrieve the header, you could use the `next()` function, which causes the iterable to return its first element, and iterate onto the next row of data.\n",
    "\n",
    "Initially, no row has been processed, so the first call of `next()` will simply return the header as in the following example:\n"
   ]
  },
  {
   "cell_type": "raw",
   "metadata": {},
   "source": [
    "Victoria's Regions,2004,2005,2006,2007\n",
    "Gippsland,63354,47083,51517,54872\n",
    "Goldfields,42625,36358,30358,36486\n",
    "Grampians,64092,41773,29102,38058\n",
    "Great Ocean Road,185456,153925,150268,167458\n",
    "Melbourne,1236417,1263118,1357800,1377291"
   ]
  },
  {
   "cell_type": "code",
   "execution_count": null,
   "metadata": {},
   "outputs": [],
   "source": [
    "import csv\n",
    "visitors = open(\"vic_visitors.csv\")\n",
    "data = csv.reader(visitors)\n",
    "print(next(data))\n",
    "visitors.close()"
   ]
  },
  {
   "cell_type": "markdown",
   "metadata": {},
   "source": []
  },
  {
   "cell_type": "markdown",
   "metadata": {},
   "source": [
    "# A Complete Example"
   ]
  },
  {
   "cell_type": "markdown",
   "metadata": {},
   "source": [
    "We can also process the data in a CSV file, i.e., perform some computation over the individual entries. Assume, for example, that you would like to know the average number of visitors per annum for each region. In this case, we have to add the number of visitors in a row for each year, and divide the resulting number by the total number of years. Note that we have to exclude the first row (the header), and the first column of every subsequent row, as it contains the name of the region. As you have seen a number of times already, you can exclude the first element of a list by slicing the row from item 1, as in the following example:\n"
   ]
  },
  {
   "cell_type": "raw",
   "metadata": {},
   "source": [
    "Victoria's Regions,2004,2005,2006,2007\n",
    "Gippsland,63354,47083,51517,54872\n",
    "Goldfields,42625,36358,30358,36486\n",
    "Grampians,64092,41773,29102,38058\n",
    "Great Ocean Road,185456,153925,150268,167458\n",
    "Melbourne,1236417,1263118,1357800,1377291"
   ]
  },
  {
   "cell_type": "code",
   "execution_count": null,
   "metadata": {},
   "outputs": [],
   "source": [
    "import csv\n",
    "visitors = open(\"vic_visitors.csv\")\n",
    "data = csv.reader(visitors)\n",
    "header = next(data)\n",
    "for row in data:\n",
    "    total = 0\n",
    "    cols = 0\n",
    "    for entry in row[1:]:\n",
    "        total = total + float(entry)\n",
    "        cols += 1\n",
    "    print(f\"{row[0]}: {total/cols:.0f}\")\n",
    "visitors.close()"
   ]
  },
  {
   "cell_type": "markdown",
   "metadata": {},
   "source": [
    "# CSV Files as 2D Data"
   ]
  },
  {
   "cell_type": "markdown",
   "metadata": {},
   "source": [
    "You can also interpret CSV data as two-dimensional data. Two-dimensional data has a row and a column index (in that order). If you would like to print out the number of visitors of the Grampians in the year 2005, you would have to access the third row and second column (remember that we start counting from 0). To convert the variable data into two-dimensional form you have to convert the CSV `reader` into a `list` as in the following example:\n"
   ]
  },
  {
   "cell_type": "raw",
   "metadata": {},
   "source": [
    "Victoria's Regions,2004,2005,2006,2007\n",
    "Gippsland,63354,47083,51517,54872\n",
    "Goldfields,42625,36358,30358,36486\n",
    "Grampians,64092,41773,29102,38058\n",
    "Great Ocean Road,185456,153925,150268,167458\n",
    "Melbourne,1236417,1263118,1357800,1377291"
   ]
  },
  {
   "cell_type": "code",
   "execution_count": null,
   "metadata": {},
   "outputs": [],
   "source": [
    "import csv\n",
    "visitors = open(\"vic_visitors.csv\")\n",
    "data = csv.reader(visitors)\n",
    "data_2d = list(data)\n",
    "print(data_2d[3][2])\n",
    "visitors.close()"
   ]
  },
  {
   "cell_type": "markdown",
   "metadata": {},
   "source": [
    "# Naming the Elements of a Row"
   ]
  },
  {
   "cell_type": "markdown",
   "metadata": {},
   "source": [
    "One issue with `csv.reader()` is that you have to hard-code which column is which by its column index, or save the header row as a list and double-check which row is which via the labels in list. For CSV files with header rows, a more convenient and direct way of accessing the individual elements within a row is via `csv.DictReader()`, whereby each row is returned as a dictionary rather than a list, and a value can be referenced directly by its column label (assuming each column is uniquely labelled; you might like to think why this is).\n",
    "\n",
    "To see whether this can be important, consider the follow example involving the monthly rainfall measurements for the different state and territory capitals in a given year:\n"
   ]
  },
  {
   "cell_type": "raw",
   "metadata": {},
   "source": [
    "city,Jan,Feb,Mar,Apr,May,Jun,Jul,Aug,Sep,Oct,Nov,Dec\n",
    "Melbourne,32.8,24.6,42.2,23,38.8,46.8,62.6,15,18.6,17.4,66.2,71.2\n",
    "Brisbane,184.4,216.8,20.6,3.2,39,112.6,1,91.2,32.4,55.2,61.8,79.2\n",
    "Darwin,515.2,670,689.8,18,18.8,4.2,0,0.4,43.6,13.2,143.2,247.8\n",
    "Perth,0,47.6,6.2,76.4,61.4,60,179.4,130.8,100.6,42.4,5.2,18\n",
    "Adelaide,9,3,24.6,82.4,45,64.8,65.8,25.8,24,25.2,29.6,37.6\n",
    "Canberra,43.8,64.6,36.6,27.8,41.6,92.8,18.8,11.6,14.6,22.6,94,101\n",
    "Hobart,2.8,64.8,24.2,26.2,31.2,29.6,36.8,59,62.8,44,7,83.4\n",
    "Sydney,57,258.4,65.4,179.6,9.8,510.6,67.2,152.2,41.2,27,170,123.2"
   ]
  },
  {
   "cell_type": "markdown",
   "metadata": {},
   "source": [
    "\n",
    "If we wanted to calculate the average monthly rainfall over the winter months in each case, we could do this as follows:\n"
   ]
  },
  {
   "cell_type": "code",
   "execution_count": null,
   "metadata": {},
   "outputs": [],
   "source": [
    "import csv\n",
    "cities = open(\"city_rainfall.csv\")\n",
    "for row in csv.DictReader(cities):\n",
    "    total = 0\n",
    "    for month in (\"Jun\", \"Jul\", \"Aug\"):\n",
    "        total = total + float(row[month])\n",
    "    print(f\"{row['city']}: {total/3:.0f}\")\n",
    "cities.close()"
   ]
  },
  {
   "cell_type": "markdown",
   "metadata": {},
   "source": [
    "# Writing CSV Files"
   ]
  },
  {
   "cell_type": "markdown",
   "metadata": {},
   "source": [
    "If you need to store your CSV data in a file, you can use the `csv.writer()` function. It takes a file object opened in write mode (`'w'`) and returns a special object called a CSV writer. The CSV writer has methods for converting your lists of values to string lines. One such method is the `.writerows()` method. This method assumes that your data is represented as a nested list. The following example writes a small 2D data structure to the CSV file `\"2d-data.csv\"`. It then prints out the contents of the file so that you can see how the 2D data is represented in a CSV file.\n"
   ]
  },
  {
   "cell_type": "code",
   "execution_count": null,
   "metadata": {},
   "outputs": [],
   "source": [
    "import csv\n",
    "data_2d = [[1, 2, 3], [4, 5, 6]]\n",
    "csv_file = open(\"2d-data.csv\", \"w\")    \n",
    "writer = csv.writer(csv_file)\n",
    "writer.writerows(data_2d)\n",
    "csv_file.close()\n",
    "\n",
    "csv_file = open(\"2d-data.csv\", \"r\")\n",
    "print(csv_file.read())\n",
    "csv_file.close()\n"
   ]
  },
  {
   "cell_type": "markdown",
   "metadata": {},
   "source": [
    "\n",
    "The CSV writer also has a `.writerow()` method that takes a single list as its argument for writing a single row.\n"
   ]
  },
  {
   "cell_type": "markdown",
   "metadata": {},
   "source": [
    "# Problem: Sorting CSV Records"
   ]
  },
  {
   "cell_type": "markdown",
   "metadata": {},
   "source": [
    "Write a function `sort_records(csv_filename, new_filename)` that sorts the records of a CSV file and writes the results as a new CSV file.\n",
    "The first column of the CSV file will be the city name.\n",
    "The rest of the columns will be months of the year.\n",
    "The first row of the CSV file will take the form of the column headings.\n",
    "Here is an example file fragment:\n"
   ]
  },
  {
   "cell_type": "raw",
   "metadata": {},
   "source": [
    "city/month,Jan,Feb,Mar,Apr\n",
    "Melbourne,41.2,35.5,37.4,29.3\n",
    "Brisbane,31.3,40.2,37.9,29\n",
    "Darwin,34,34,33.2,34.5"
   ]
  },
  {
   "cell_type": "markdown",
   "metadata": {},
   "source": [
    "\n",
    "Note that your code will be tested over different CSV files, with different ranges of months in them.\n",
    "Irrespective of the exact months contained in the file, you may assume that the city name will always be in the first column, and the months in the remaining columns.\n",
    "\n",
    "You must sort the data in alphabetical order according to the city name (stored in the first column).\n",
    "Your program should write the sorted records to a new file with the name given by the argument `new_filename`.\n",
    "\n",
    "Here is an example of how `sort_records()` should work. 'program.py' is the program and below is its terminal output.\n"
   ]
  },
  {
   "cell_type": "code",
   "execution_count": null,
   "metadata": {},
   "outputs": [],
   "source": [
    "sort_records('max_temp.csv', 'sorted.csv')\n",
    "result = open('sorted.csv')\n",
    "print(result.read())\n",
    "result.close()"
   ]
  },
  {
   "cell_type": "raw",
   "metadata": {},
   "source": [
    "city/month,Jan,Feb,Mar,Apr\n",
    "Brisbane,31.3,40.2,37.9,29\n",
    "Darwin,34,34,33.2,34.5\n",
    "Melbourne,41.2,35.5,37.4,29.3"
   ]
  },
  {
   "cell_type": "markdown",
   "metadata": {},
   "source": [
    "\n",
    "Note that the row for Melbourne has been sorted below the rows for Brisbane and Darwin because `Melbourne` comes later than `Brisbane` and `Darwin`, based on alphabetical ordering.\n",
    "\n",
    "> ## Test File\n",
    "> So you can test your answer, we have provided a full year of data for many Australian cities in a file called `max_temp.csv`. The data was obtained from the [Bureau of Meteorology website](http://www.bom.gov.au/climate/averages/)."
   ]
  },
  {
   "cell_type": "code",
   "execution_count": null,
   "metadata": {},
   "outputs": [],
   "source": [
    "# Your solution here"
   ]
  },
  {
   "cell_type": "markdown",
   "metadata": {},
   "source": [
    "# Problem: Hottest Month"
   ]
  },
  {
   "cell_type": "markdown",
   "metadata": {},
   "source": [
    "Write a function `max_city_temp(csv_filename, city)` which analyses temperatures recorded in a CSV file, and returns the maximum temperature recorded for the named city.\n",
    "\n",
    "The first column of the CSV file will be the city name.\n",
    "The rest of the columns will be months of the year.\n",
    "The first row of the CSV file will provide the column headings.\n",
    "Here is an example file fragment (the actual file has all of the months of the year):\n"
   ]
  },
  {
   "cell_type": "raw",
   "metadata": {},
   "source": [
    "city/month,Jan,Feb,Mar,Apr\n",
    "Melbourne,41.2,35.5,37.4,29.3\n",
    "Brisbane,31.3,40.2,37.9,29\n",
    "Darwin,34,34,33.2,34.5"
   ]
  },
  {
   "cell_type": "markdown",
   "metadata": {},
   "source": [
    "\n",
    "Here is an example of how `max_city_temp()` should work:\n"
   ]
  },
  {
   "cell_type": "raw",
   "metadata": {},
   "source": [
    ">>> max_city_temp('max_temp.csv', 'Brisbane')\n",
    "40.2"
   ]
  },
  {
   "cell_type": "markdown",
   "metadata": {},
   "source": [
    "\n",
    "> ## Test File\n",
    "> So you can test your code, we have provided a full year of data for many Australian cities in a file called `max_temp.csv`.\n",
    "> The data was obtained from the [Bureau of Meteorology website](http://www.bom.gov.au/climate/averages/)."
   ]
  },
  {
   "cell_type": "code",
   "execution_count": null,
   "metadata": {},
   "outputs": [],
   "source": [
    "# Your solution here"
   ]
  },
  {
   "cell_type": "markdown",
   "metadata": {},
   "source": [
    "# Problem: Hottest City"
   ]
  },
  {
   "cell_type": "markdown",
   "metadata": {},
   "source": [
    "Write a function `hottest_city(csv_filename)` that analyses the temperatures recorded in a CSV file, and returns a 2-tuple made up of the maximum temperature in the whole dataset along with a sorted list of the names of cities where that temperature was recorded.\n",
    "\n",
    "The first column of the CSV file will contain the city name.\n",
    "The rest of the columns will be months of the year.\n",
    "The first row of the CSV files will provide column headings.\n",
    "Here is an example file (with an incomplete set of months):\n"
   ]
  },
  {
   "cell_type": "raw",
   "metadata": {},
   "source": [
    "city/month,Jan,Feb,Mar,Apr\n",
    "Melbourne,41.2,35.5,37.4,29.3\n",
    "Brisbane,31.3,40.2,37.9,29\n",
    "Darwin,34,34,33.2,34.5"
   ]
  },
  {
   "cell_type": "markdown",
   "metadata": {},
   "source": [
    "\n",
    "Here is an example of how `hottest_city()` should work:\n"
   ]
  },
  {
   "cell_type": "raw",
   "metadata": {},
   "source": [
    ">>> hottest_city('max_temp_tiny.csv')\n",
    "(41.2, ['Melbourne'])"
   ]
  },
  {
   "cell_type": "markdown",
   "metadata": {},
   "source": [
    "\n",
    "> ## Test File\n",
    "> So you can test your answer, we have provided a full year of data for many Australian cities in a file called `max_temp.csv`.\n",
    "> The data was obtained from the [Bureau of Meteorology website](http://www.bom.gov.au/climate/averages/)."
   ]
  },
  {
   "cell_type": "code",
   "execution_count": null,
   "metadata": {},
   "outputs": [],
   "source": [
    "# Your solution here"
   ]
  }
 ],
 "metadata": {
  "kernelspec": {
   "display_name": "Python 3",
   "language": "python",
   "name": "python3"
  },
  "language_info": {
   "codemirror_mode": {
    "name": "ipython",
    "version": 3
   },
   "file_extension": ".py",
   "mimetype": "text/x-python",
   "name": "python",
   "nbconvert_exporter": "python",
   "pygments_lexer": "ipython3",
   "version": "3.8.5"
  }
 },
 "nbformat": 4,
 "nbformat_minor": 1
}
